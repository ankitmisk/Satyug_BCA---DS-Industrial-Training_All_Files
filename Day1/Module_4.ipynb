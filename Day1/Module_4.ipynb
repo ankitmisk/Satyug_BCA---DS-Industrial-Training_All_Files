{
 "cells": [
  {
   "cell_type": "markdown",
   "id": "fbcaddf9",
   "metadata": {},
   "source": [
    "# Python Flow Controls\n",
    "\n",
    "## Definition\n",
    "Flow control statements allow you to control the order in which code is executed in your programs. Python provides several flow control statements to help manage the flow of the program: `if`, `elif`, `else`, `for`, `while`, `break`, `continue`, and `pass`.\n",
    "\n",
    "## Conditional Statements\n",
    "Conditional statements are used to execute code based on a condition. The main conditional statements are `if`, `elif`, and `else`.\n",
    "\n",
    "### Syntax\n",
    "```python\n",
    "if condition1:\n",
    "    # code block to be executed if condition1 is true\n",
    "elif condition2:\n",
    "    # code block to be executed if condition2 is true\n",
    "else:\n",
    "    # code block to be executed if none of the above conditions are true\n"
   ]
  },
  {
   "cell_type": "markdown",
   "id": "60d49287",
   "metadata": {},
   "source": [
    "\n",
    "\n",
    "## Definition\n",
    "Conditional statements allow you to control the flow of your program based on certain conditions. In Python, conditional statements use the `if`, `elif`, and `else` keywords to execute different blocks of code based on various conditions.\n",
    "\n",
    "## Syntax\n",
    "```python\n",
    "if condition1:\n",
    "    # code block to be executed if condition1 is true\n",
    "elif condition2:\n",
    "    # code block to be executed if condition2 is true\n",
    "else:\n",
    "    # code block to be executed if none of the above conditions are true\n",
    "\n",
    "    \n",
    "    \n",
    "    \n",
    "    \n",
    "    \n",
    "    \n",
    "    \n",
    "```python\n",
    "age = 18\n",
    "if age >= 18:\n",
    "    print(\"You are an adult.\")\n",
    "\n",
    "```\n",
    "\n",
    "\n",
    "## Example 2: if...else Statement\n",
    "\n",
    "```python\n",
    "age = 16\n",
    "if age >= 18:\n",
    "    print(\"You are an adult.\")\n",
    "else:\n",
    "    print(\"You are not an adult.\")\n",
    "\n",
    "```\n",
    "\n",
    "\n",
    "## Example 3: if...elif...else Statement\n",
    "\n",
    "```python\n",
    "score = 85\n",
    "if score >= 90:\n",
    "    print(\"Grade: A\")\n",
    "elif score >= 80:\n",
    "    print(\"Grade: B\")\n",
    "elif score >= 70:\n",
    "    print(\"Grade: C\")\n",
    "else:\n",
    "    print(\"Grade: F\")\n",
    "\n",
    "```\n",
    "\n",
    "\n",
    "## Example 4: Nested Conditional Statements\n",
    "\n",
    "```python\n",
    "num = 10\n",
    "if num >= 0:\n",
    "    if num == 0:\n",
    "        print(\"Zero\")\n",
    "    else:\n",
    "        print(\"Positive number\")\n",
    "else:\n",
    "    print(\"Negative number\")\n",
    "\n",
    "\n",
    "```\n",
    "\n",
    "## Example 5: Using Logical Operators\n",
    "\n",
    "```python\n",
    "num = 15\n",
    "if num > 10 and num < 20:\n",
    "    print(\"Number is between 10 and 20\")\n",
    "\n",
    "```\n",
    "\n",
    "\n",
    "## Summary\n",
    "- if statements allow you to execute a block of code if a condition is True.\n",
    "- elif allows you to check multiple conditions.\n",
    "- else allows you to execute a block of code if none of the conditions are True.\n",
    "- Conditions can be combined using logical operators like and, or, and not."
   ]
  },
  {
   "cell_type": "markdown",
   "id": "63015f97",
   "metadata": {},
   "source": []
  },
  {
   "cell_type": "code",
   "execution_count": null,
   "id": "ca37a42a",
   "metadata": {},
   "outputs": [],
   "source": []
  },
  {
   "cell_type": "code",
   "execution_count": null,
   "id": "d2c59e4f",
   "metadata": {},
   "outputs": [],
   "source": []
  },
  {
   "cell_type": "markdown",
   "id": "3d209bf9",
   "metadata": {},
   "source": [
    "# for Loop\n",
    "A for loop is used to iterate over a sequence (such as a list, tuple, dictionary, set, or string) and execute a block of code for each item in the sequence.\n",
    "\n",
    "```python\n",
    "for item in sequence:\n",
    "    # code block to be executed for each item\n",
    "\n",
    "```"
   ]
  },
  {
   "cell_type": "code",
   "execution_count": 1,
   "id": "48cc0558",
   "metadata": {},
   "outputs": [
    {
     "name": "stdout",
     "output_type": "stream",
     "text": [
      "apple\n",
      "banana\n",
      "cherry\n"
     ]
    }
   ],
   "source": [
    "fruits = [\"apple\", \"banana\", \"cherry\"]\n",
    "for fruit in fruits:\n",
    "    print(fruit)\n"
   ]
  },
  {
   "cell_type": "markdown",
   "id": "e8ee6682",
   "metadata": {},
   "source": [
    "# while Loop\n",
    "A while loop repeatedly executes a block of code as long as a specified condition is True.\n",
    "\n",
    "```python\n",
    "while condition:\n",
    "    # code block to be executed as long as the condition is true\n",
    "\n",
    "```"
   ]
  },
  {
   "cell_type": "code",
   "execution_count": 2,
   "id": "489f0a24",
   "metadata": {},
   "outputs": [
    {
     "name": "stdout",
     "output_type": "stream",
     "text": [
      "Count: 0\n",
      "Count: 1\n",
      "Count: 2\n"
     ]
    }
   ],
   "source": [
    "count = 0\n",
    "while count < 3:\n",
    "    print(\"Count:\", count)\n",
    "    count += 1\n"
   ]
  },
  {
   "cell_type": "markdown",
   "id": "3bdba2fa",
   "metadata": {},
   "source": [
    "# break Statement\n",
    "The break statement is used to exit a loop prematurely when a certain condition is met.\n",
    "\n",
    "```python\n",
    "for num in range(10):\n",
    "    if num == 5:\n",
    "        break\n",
    "    print(num)\n",
    "\n",
    "```"
   ]
  },
  {
   "cell_type": "markdown",
   "id": "3bbae401",
   "metadata": {},
   "source": [
    "# continue Statement\n",
    "The continue statement is used to skip the rest of the code inside a loop for the current iteration and move on to the next iteration."
   ]
  },
  {
   "cell_type": "code",
   "execution_count": 3,
   "id": "bf04a45a",
   "metadata": {},
   "outputs": [
    {
     "name": "stdout",
     "output_type": "stream",
     "text": [
      "0\n",
      "1\n",
      "2\n",
      "4\n"
     ]
    }
   ],
   "source": [
    "for num in range(5):\n",
    "    if num == 3:\n",
    "        continue\n",
    "    print(num)\n"
   ]
  },
  {
   "cell_type": "markdown",
   "id": "40d1d0e8",
   "metadata": {},
   "source": [
    "# pass Statement\n",
    "The pass statement is a null operation; it is used as a placeholder in loops, functions, classes, or conditionals where syntactically some code is required but you do not want to execute any code.\n",
    "\n",
    "```python\n",
    "for num in range(5):\n",
    "    if num == 3:\n",
    "        pass\n",
    "    print(num)\n",
    "\n",
    "```"
   ]
  },
  {
   "cell_type": "markdown",
   "id": "9219de87",
   "metadata": {},
   "source": [
    "# Summary\n",
    "- Conditional Statements (if, elif, else): Used to execute code based on conditions.\n",
    "- for Loop: Iterates over a sequence and executes a block of code for each item.\n",
    "- while Loop: Repeatedly executes a block of code as long as a condition is true.\n",
    "- break Statement: Exits a loop prematurely.\n",
    "- continue Statement: Skips the rest of the code in a loop for the current iteration.\n",
    "- pass Statement: A null operation used as a placeholder."
   ]
  },
  {
   "cell_type": "code",
   "execution_count": null,
   "id": "0fd2351b",
   "metadata": {},
   "outputs": [],
   "source": []
  }
 ],
 "metadata": {
  "kernelspec": {
   "display_name": "Python 3 (ipykernel)",
   "language": "python",
   "name": "python3"
  },
  "language_info": {
   "codemirror_mode": {
    "name": "ipython",
    "version": 3
   },
   "file_extension": ".py",
   "mimetype": "text/x-python",
   "name": "python",
   "nbconvert_exporter": "python",
   "pygments_lexer": "ipython3",
   "version": "3.11.3"
  }
 },
 "nbformat": 4,
 "nbformat_minor": 5
}
