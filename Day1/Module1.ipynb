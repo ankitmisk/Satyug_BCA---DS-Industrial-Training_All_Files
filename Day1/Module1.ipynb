{
 "cells": [
  {
   "cell_type": "markdown",
   "id": "fadb7426",
   "metadata": {},
   "source": [
    "# What is Programming and Python?\n",
    "## What is Programming\n",
    "Programming is a way for us to tell computers what to do. Computer is a very dumb machine and it only does what we tell it to do. Hence we learn programming and tell computers to do what we are very slow at - computation. \n",
    "If I ask you to calculate 5+6, you will immediately say 11. \n",
    "How about 23453453 X 56456?\n",
    "\n",
    "You will start searching for a calculator or jump to a new tab to calculate the same. \n",
    "This industrial training will help you learn python from starting to the end. We will start from 0 and by the time we end this course, I promise you will be a Job ready developer!\n",
    "\n",
    "## What is Python?\n",
    "\n",
    "-   Python is a dynamically typed, general purpose programming language that supports an object-oriented programming approach as well as a functional programming approach.\n",
    "-   Python is an interpreted and a high-level programming language.\n",
    "-   It was created by Guido Van Rossum in 1989. \n",
    "\n",
    "## Features of Python\n",
    "\n",
    "-   Python is simple and easy to understand.\n",
    "-   It is Interpreted and platform-independent which makes debugging very easy.\n",
    "-   Python is an open-source programming language.\n",
    "-   Python provides very big library support. Some of the popular libraries include NumPy, Tensorflow, Selenium, OpenCV, etc.\n",
    "-   It is possible to integrate other programming languages within python.\n",
    "\n",
    "## What is Python used for\n",
    "\n",
    "-   Python is used in Data Visualization to create plots and graphical representations.\n",
    "-   Python helps in Data Analytics to analyze and understand raw data for insights and trends.\n",
    "-   It is used in AI and Machine Learning to simulate human behavior and to learn from past data without hard coding.\n",
    "-   It is used to create web applications.\n",
    "-   It can be used to handle databases.\n",
    "-   It is used in business and accounting to perform complex mathematical operations along with quantitative and qualitative analysis.\n"
   ]
  },
  {
   "cell_type": "code",
   "execution_count": null,
   "id": "b018b001",
   "metadata": {},
   "outputs": [],
   "source": []
  },
  {
   "cell_type": "code",
   "execution_count": null,
   "id": "e1a67d91",
   "metadata": {},
   "outputs": [],
   "source": []
  },
  {
   "cell_type": "markdown",
   "id": "3f6abfe5",
   "metadata": {},
   "source": [
    "# Application-of-Python\n",
    "\n",
    "- `Web Development`: Django, Flask for backend.\n",
    "- `Data Analysis`: Pandas, NumPy, Matplotlib.\n",
    "- `Machine Learning`: TensorFlow, Keras, scikit-learn.\n",
    "- `Automation`: Scripting for tasks.\n",
    "- `Game Development`: Pygame for games.\n",
    "- `Desktop GUI`: tkinter, PyQt.\n",
    "- `Web Scraping`: BeautifulSoup, Scrapy.\n",
    "- `Embedded`: MicroPython, CircuitPython.\n",
    "- `Scientific Computing`: SciPy, SymPy.\n",
    "- `Education`: Beginner-friendly teaching."
   ]
  },
  {
   "cell_type": "markdown",
   "id": "c5a131c0",
   "metadata": {},
   "source": [
    "# Our First Program"
   ]
  },
  {
   "cell_type": "code",
   "execution_count": null,
   "id": "51ac0eed",
   "metadata": {},
   "outputs": [],
   "source": []
  },
  {
   "cell_type": "markdown",
   "id": "1419f292",
   "metadata": {},
   "source": [
    "# Python Comments\n",
    "A comment is a part of the coding file that the programmer does not want to execute, rather the programmer uses it to either explain a block of code or to avoid the execution of a specific part of code while testing."
   ]
  },
  {
   "cell_type": "code",
   "execution_count": null,
   "id": "a00227fb",
   "metadata": {},
   "outputs": [],
   "source": []
  }
 ],
 "metadata": {
  "kernelspec": {
   "display_name": "Python 3 (ipykernel)",
   "language": "python",
   "name": "python3"
  },
  "language_info": {
   "codemirror_mode": {
    "name": "ipython",
    "version": 3
   },
   "file_extension": ".py",
   "mimetype": "text/x-python",
   "name": "python",
   "nbconvert_exporter": "python",
   "pygments_lexer": "ipython3",
   "version": "3.11.3"
  }
 },
 "nbformat": 4,
 "nbformat_minor": 5
}
