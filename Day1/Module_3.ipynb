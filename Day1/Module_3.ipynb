{
 "cells": [
  {
   "cell_type": "markdown",
   "id": "5419ffed",
   "metadata": {},
   "source": [
    "## Operators in Python\n",
    "\n",
    "In Python, operators are special symbols or keywords that are used to perform operations on variables and values. These operations can include arithmetic computations, comparisons, logical operations, assignments, and more. Here are the main categories of operators in Python along with their definitions:\n",
    "\n",
    "### Arithmetic Operators\n",
    "- `+` Addition\n",
    "- `-` Subtraction\n",
    "- `*` Multiplication\n",
    "- `/` Division\n",
    "- `//` Floor Division\n",
    "- `%` Modulus\n",
    "- `**` Exponentiation\n",
    "\n",
    "### Comparison Operators\n",
    "- `==` Equal to\n",
    "- `!=` Not equal to\n",
    "- `>` Greater than\n",
    "- `<` Less than\n",
    "- `>=` Greater than or equal to\n",
    "- `<=` Less than or equal to\n",
    "\n",
    "### Assignment Operators\n",
    "- `=` Assigns a value\n",
    "- `+=` Adds and assigns\n",
    "- `-=` Subtracts and assigns\n",
    "- `*=` Multiplies and assigns\n",
    "- `/=` Divides and assigns\n",
    "- `//=` Performs floor division and assigns\n",
    "- `%=` Performs modulus and assigns\n",
    "- `**=` Performs exponentiation and assigns\n",
    "\n",
    "### Logical Operators\n",
    "- `and` Logical AND\n",
    "- `or` Logical OR\n",
    "- `not` Logical NOT\n",
    "\n",
    "### Identity Operators\n",
    "- `is` Returns true if both variables are the same object\n",
    "- `is not` Returns true if both variables are not the same object\n",
    "\n",
    "### Membership Operators\n",
    "- `in` Returns true if a sequence with the specified value is present in the object\n",
    "- `not in` Returns true if a sequence with the specified value is not present in the object\n",
    "\n",
    "### Bitwise Operators\n",
    "- `&` AND\n",
    "- `|` OR\n",
    "- `^` XOR\n",
    "- `~` NOT\n",
    "- `<<` Left shift\n",
    "- `>>` Right shift\n"
   ]
  },
  {
   "cell_type": "code",
   "execution_count": null,
   "id": "7560e7d0",
   "metadata": {},
   "outputs": [],
   "source": []
  }
 ],
 "metadata": {
  "kernelspec": {
   "display_name": "Python 3 (ipykernel)",
   "language": "python",
   "name": "python3"
  },
  "language_info": {
   "codemirror_mode": {
    "name": "ipython",
    "version": 3
   },
   "file_extension": ".py",
   "mimetype": "text/x-python",
   "name": "python",
   "nbconvert_exporter": "python",
   "pygments_lexer": "ipython3",
   "version": "3.11.3"
  }
 },
 "nbformat": 4,
 "nbformat_minor": 5
}
