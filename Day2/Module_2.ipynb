{
 "cells": [
  {
   "cell_type": "markdown",
   "id": "05e1480c",
   "metadata": {},
   "source": [
    "# Functions in Python\n",
    "Functions are a fundamental building block in Python, allowing you to encapsulate reusable blocks of code. Functions help in organizing code, making it more readable and easier to manage.\n",
    "\n",
    "## Definition\n",
    "A function is a block of code that only runs when it is called. You can pass data, known as parameters, into a function. A function can return data as a result."
   ]
  },
  {
   "cell_type": "markdown",
   "id": "b4e770bb",
   "metadata": {},
   "source": [
    "```python\n",
    "def function_name(parameters):\n",
    "    \"\"\"Docstring (optional): Describe what the function does.\"\"\"\n",
    "    # Function body\n",
    "    # Perform some operations\n",
    "    return result\n",
    "\n",
    "```"
   ]
  },
  {
   "cell_type": "markdown",
   "id": "b52716e5",
   "metadata": {},
   "source": [
    "```python\n",
    "# Defining a function\n",
    "def greet(name):\n",
    "    \"\"\"This function greets the person whose name is passed as an argument.\"\"\"\n",
    "    print(f\"Hello, {name}!\")\n",
    "\n",
    "# Calling the function\n",
    "greet(\"Alice\")  # Output: Hello, Alice!\n",
    "\n",
    "```"
   ]
  },
  {
   "cell_type": "markdown",
   "id": "b8b6f330",
   "metadata": {},
   "source": [
    "## Parameters and Arguments\n",
    "- Parameters: Variables listed inside the parentheses in the function definition.\n",
    "- Arguments: Values sent to the function when it is called.\n",
    "\n",
    "\n",
    "```python\n",
    "def add(a, b):\n",
    "    \"\"\"This function returns the sum of two numbers.\"\"\"\n",
    "    return a + b\n",
    "\n",
    "# Calling the function with arguments\n",
    "result = add(5, 3)\n",
    "print(result)  # Output: 8\n",
    "\n",
    "```\n",
    "\n",
    "\n",
    "## Default Parameters\n",
    "You can provide default values for parameters. If an argument is not provided during the function call, the default value is used.\n",
    "\n",
    "\n",
    "```python\n",
    "def greet(name=\"Guest\"):\n",
    "    \"\"\"This function greets the person whose name is passed as an argument, or 'Guest' if no name is provided.\"\"\"\n",
    "    print(f\"Hello, {name}!\")\n",
    "\n",
    "# Calling the function with and without an argument\n",
    "greet(\"Bob\")  # Output: Hello, Bob!\n",
    "greet()       # Output: Hello, Guest!\n",
    "\n",
    "```\n",
    "\n",
    "\n",
    "## Returning Values\n",
    "A function can return a value using the return statement.\n",
    "Example:\n",
    "\n",
    "```python\n",
    "def square(x):\n",
    "    \"\"\"This function returns the square of a number.\"\"\"\n",
    "    return x * x\n",
    "\n",
    "# Calling the function and printing the result\n",
    "result = square(4)\n",
    "print(result)  # Output: 16\n",
    "\n",
    "```"
   ]
  },
  {
   "cell_type": "markdown",
   "id": "aa8e0063",
   "metadata": {},
   "source": [
    "## Multiple Return Values\n",
    "A function can return multiple values as a tuple.\n",
    "\n",
    "```python\n",
    "def get_name_and_age():\n",
    "    \"\"\"This function returns a name and an age.\"\"\"\n",
    "    name = \"Alice\"\n",
    "    age = 30\n",
    "    return name, age\n",
    "\n",
    "# Calling the function and unpacking the returned tuple\n",
    "name, age = get_name_and_age()\n",
    "print(name)  # Output: Alice\n",
    "print(age)   # Output: 30\n",
    "```\n",
    "\n",
    "\n",
    "\n",
    "## Variable-Length Arguments\n",
    "You can define functions to accept a variable number of arguments using *args for positional arguments and **kwargs for keyword arguments.\n",
    "Example with *args:\n",
    "```python\n",
    "def sum_all(*args):\n",
    "    \"\"\"This function returns the sum of all arguments.\"\"\"\n",
    "    return sum(args)\n",
    "\n",
    "# Calling the function with multiple arguments\n",
    "result = sum_all(1, 2, 3, 4)\n",
    "print(result)  # Output: 10\n",
    "\n",
    "```"
   ]
  },
  {
   "cell_type": "markdown",
   "id": "41a57637",
   "metadata": {},
   "source": [
    "## Example with **kwargs:\n",
    "\n",
    "```python\n",
    "def print_details(**kwargs):\n",
    "    \"\"\"This function prints the details passed as keyword arguments.\"\"\"\n",
    "    for key, value in kwargs.items():\n",
    "        print(f\"{key}: {value}\")\n",
    "\n",
    "# Calling the function with multiple keyword arguments\n",
    "print_details(name=\"Alice\", age=30, city=\"New York\")\n",
    "# Output:\n",
    "# name: Alice\n",
    "# age: 30\n",
    "# city: New York\n",
    "\n",
    "```"
   ]
  },
  {
   "cell_type": "markdown",
   "id": "1ad9c741",
   "metadata": {},
   "source": [
    "# Summary\n",
    "- Functions: Encapsulate reusable blocks of code.\n",
    "- Parameters and Arguments: Define input variables and values passed to the function.\n",
    "- Default Parameters: Provide default values for parameters.\n",
    "- Return Values: Functions can return single or multiple values.\n",
    "- Variable-Length Arguments: Handle a variable number of positional or keyword arguments."
   ]
  },
  {
   "cell_type": "code",
   "execution_count": null,
   "id": "4213a666",
   "metadata": {},
   "outputs": [],
   "source": []
  }
 ],
 "metadata": {
  "kernelspec": {
   "display_name": "Python 3 (ipykernel)",
   "language": "python",
   "name": "python3"
  },
  "language_info": {
   "codemirror_mode": {
    "name": "ipython",
    "version": 3
   },
   "file_extension": ".py",
   "mimetype": "text/x-python",
   "name": "python",
   "nbconvert_exporter": "python",
   "pygments_lexer": "ipython3",
   "version": "3.11.3"
  }
 },
 "nbformat": 4,
 "nbformat_minor": 5
}
