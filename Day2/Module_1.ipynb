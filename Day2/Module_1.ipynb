{
 "cells": [
  {
   "cell_type": "markdown",
   "id": "ba1a8cbc",
   "metadata": {},
   "source": [
    "\n",
    "# Collection Objects in Python\n",
    "Python offers a variety of collection objects that are used to store multiple items in a single variable. These collection objects include lists, tuples, sets, and dictionaries. Each type of collection has its own characteristics and use cases.\n",
    "\n",
    "## Lists\n",
    "Definition: Lists are ordered, mutable (changeable) collections of items. They allow duplicate elements and can contain items of different data types."
   ]
  },
  {
   "cell_type": "code",
   "execution_count": 1,
   "id": "590a3613",
   "metadata": {},
   "outputs": [
    {
     "name": "stdout",
     "output_type": "stream",
     "text": [
      "['apple', 'banana', 'cherry']\n",
      "banana\n",
      "['apple', 'blueberry', 'cherry']\n",
      "['apple', 'blueberry', 'cherry', 'orange']\n",
      "['blueberry', 'cherry', 'orange']\n"
     ]
    }
   ],
   "source": [
    "# Creating a list\n",
    "fruits = [\"apple\", \"banana\", \"cherry\"]\n",
    "print(fruits)  # Output: ['apple', 'banana', 'cherry']\n",
    "\n",
    "# Accessing elements\n",
    "print(fruits[1])  # Output: 'banana'\n",
    "\n",
    "# Modifying elements\n",
    "fruits[1] = \"blueberry\"\n",
    "print(fruits)  # Output: ['apple', 'blueberry', 'cherry']\n",
    "\n",
    "# Adding elements\n",
    "fruits.append(\"orange\")\n",
    "print(fruits)  # Output: ['apple', 'blueberry', 'cherry', 'orange']\n",
    "\n",
    "# Removing elements\n",
    "fruits.remove(\"apple\")\n",
    "print(fruits)  # Output: ['blueberry', 'cherry', 'orange']\n"
   ]
  },
  {
   "cell_type": "markdown",
   "id": "42103662",
   "metadata": {},
   "source": [
    "## Tuples\n",
    "Definition: Tuples are ordered, immutable collections of items. They allow duplicate elements and can contain items of different data types."
   ]
  },
  {
   "cell_type": "markdown",
   "id": "9eb52d9b",
   "metadata": {},
   "source": [
    "```python\n",
    "# Creating a tuple\n",
    "fruits = (\"apple\", \"banana\", \"cherry\")\n",
    "print(fruits)  # Output: ('apple', 'banana', 'cherry')\n",
    "\n",
    "# Accessing elements\n",
    "print(fruits[1])  # Output: 'banana'\n",
    "\n",
    "# Tuples are immutable, so elements cannot be modified directly\n",
    "# fruits[1] = \"blueberry\"  # This will raise a TypeError\n",
    "\n",
    "# Tuples can be concatenated to create new tuples\n",
    "new_fruits = fruits + (\"orange\",)\n",
    "print(new_fruits)  # Output: ('apple', 'banana', 'cherry', 'orange')\n",
    "\n",
    "```"
   ]
  },
  {
   "cell_type": "markdown",
   "id": "8b099457",
   "metadata": {},
   "source": [
    "# Sets\n",
    "Definition: Sets are unordered, mutable collections of unique elements. They do not allow duplicate elements and can contain items of different data types."
   ]
  },
  {
   "cell_type": "markdown",
   "id": "11cd32ca",
   "metadata": {},
   "source": [
    "```python\n",
    "# Creating a set\n",
    "fruits = {\"apple\", \"banana\", \"cherry\"}\n",
    "print(fruits)  # Output: {'banana', 'apple', 'cherry'}\n",
    "\n",
    "# Adding elements\n",
    "fruits.add(\"orange\")\n",
    "print(fruits)  # Output: {'banana', 'apple', 'cherry', 'orange'}\n",
    "\n",
    "# Removing elements\n",
    "fruits.remove(\"banana\")\n",
    "print(fruits)  # Output: {'apple', 'cherry', 'orange'}\n",
    "\n",
    "# Sets are unordered, so elements cannot be accessed by index\n",
    "# print(fruits[1])  # This will raise a TypeError\n",
    "\n",
    "```\n"
   ]
  },
  {
   "cell_type": "markdown",
   "id": "3f57c5f0",
   "metadata": {},
   "source": [
    "# Dictionaries\n",
    "Definition: Dictionaries are unordered, mutable collections of key-value pairs. They allow duplicate values but not duplicate keys, and keys must be of an immutable data type."
   ]
  },
  {
   "cell_type": "markdown",
   "id": "7124f613",
   "metadata": {},
   "source": [
    "```python\n",
    "# Creating a dictionary\n",
    "person = {\"name\": \"Alice\", \"age\": 25, \"city\": \"New York\"}\n",
    "print(person)  # Output: {'name': 'Alice', 'age': 25, 'city': 'New York'}\n",
    "\n",
    "# Accessing elements\n",
    "print(person[\"name\"])  # Output: 'Alice'\n",
    "\n",
    "# Modifying elements\n",
    "person[\"age\"] = 26\n",
    "print(person)  # Output: {'name': 'Alice', 'age': 26, 'city': 'New York'}\n",
    "\n",
    "# Adding elements\n",
    "person[\"email\"] = \"alice@example.com\"\n",
    "print(person)  # Output: {'name': 'Alice', 'age': 26, 'city': 'New York', 'email': 'alice@example.com'}\n",
    "\n",
    "# Removing elements\n",
    "del person[\"city\"]\n",
    "print(person)  # Output: {'name': 'Alice', 'age': 26, 'email': 'alice@example.com'}\n",
    "\n",
    "```"
   ]
  },
  {
   "cell_type": "markdown",
   "id": "5c61ad45",
   "metadata": {},
   "source": [
    "# Summary\n",
    "- Lists: Ordered, mutable collections that allow duplicates.\n",
    "- Tuples: Ordered, immutable collections that allow duplicates.\n",
    "- Sets: Unordered, mutable collections that do not allow duplicates.\n",
    "- Dictionaries: Unordered, mutable collections of key-value pairs, keys must be unique.\n",
    "- These collection objects are fundamental to Python programming and are used extensively for various purposes, such as storing data, iterating over elements, and organizing information in a structured way."
   ]
  },
  {
   "cell_type": "code",
   "execution_count": null,
   "id": "a6868997",
   "metadata": {},
   "outputs": [],
   "source": []
  },
  {
   "cell_type": "code",
   "execution_count": null,
   "id": "9b093185",
   "metadata": {},
   "outputs": [],
   "source": []
  },
  {
   "cell_type": "code",
   "execution_count": null,
   "id": "638aa27a",
   "metadata": {},
   "outputs": [],
   "source": []
  },
  {
   "cell_type": "code",
   "execution_count": null,
   "id": "5cd92944",
   "metadata": {},
   "outputs": [],
   "source": []
  },
  {
   "cell_type": "code",
   "execution_count": null,
   "id": "78b2a2d1",
   "metadata": {},
   "outputs": [],
   "source": []
  },
  {
   "cell_type": "code",
   "execution_count": null,
   "id": "7801ea0e",
   "metadata": {},
   "outputs": [],
   "source": []
  },
  {
   "cell_type": "code",
   "execution_count": null,
   "id": "4c08177d",
   "metadata": {},
   "outputs": [],
   "source": []
  },
  {
   "cell_type": "code",
   "execution_count": null,
   "id": "a0ff2019",
   "metadata": {},
   "outputs": [],
   "source": []
  },
  {
   "cell_type": "code",
   "execution_count": 3,
   "id": "c4dcd972",
   "metadata": {},
   "outputs": [
    {
     "name": "stdout",
     "output_type": "stream",
     "text": [
      "1,2,3,4,5,6,7,8,9,10,"
     ]
    }
   ],
   "source": [
    "for i in range(1,11):\n",
    "    print(i,end=',')"
   ]
  },
  {
   "cell_type": "code",
   "execution_count": 4,
   "id": "38a0f058",
   "metadata": {},
   "outputs": [],
   "source": [
    "import time"
   ]
  },
  {
   "cell_type": "code",
   "execution_count": null,
   "id": "4155ef54",
   "metadata": {},
   "outputs": [],
   "source": [
    "for i in ['karan','ravi','mohan','karan','uday']:\n",
    "    "
   ]
  }
 ],
 "metadata": {
  "kernelspec": {
   "display_name": "Python 3 (ipykernel)",
   "language": "python",
   "name": "python3"
  },
  "language_info": {
   "codemirror_mode": {
    "name": "ipython",
    "version": 3
   },
   "file_extension": ".py",
   "mimetype": "text/x-python",
   "name": "python",
   "nbconvert_exporter": "python",
   "pygments_lexer": "ipython3",
   "version": "3.11.3"
  }
 },
 "nbformat": 4,
 "nbformat_minor": 5
}
