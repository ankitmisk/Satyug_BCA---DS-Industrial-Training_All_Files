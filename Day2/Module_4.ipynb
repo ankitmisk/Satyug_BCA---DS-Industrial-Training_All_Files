{
 "cells": [
  {
   "cell_type": "markdown",
   "id": "ef95fc79",
   "metadata": {},
   "source": [
    "# Object-Oriented Programming (OOP) in Python\n",
    "Object-Oriented Programming (OOP) is a programming paradigm based on the concept of \"objects,\" which can contain data and code to manipulate the data. Python is an object-oriented language that supports OOP principles.\n",
    "\n",
    "## Key Concepts of OOP\n",
    "### Class\n",
    "\n",
    "#### Definition:\n",
    "A class is a blueprint for creating objects. It defines a set of attributes and methods that the created objects will have."
   ]
  },
  {
   "cell_type": "markdown",
   "id": "6cfafd43",
   "metadata": {},
   "source": [
    "```python\n",
    "class Dog:\n",
    "    # Class attribute\n",
    "    species = \"Canis familiaris\"\n",
    "\n",
    "    # Initializer / Instance attributes\n",
    "    def __init__(self, name, age):\n",
    "        self.name = name\n",
    "        self.age = age\n",
    "\n",
    "    # Instance method\n",
    "    def description(self):\n",
    "        return f\"{self.name} is {self.age} years old\"\n",
    "\n",
    "    # Another instance method\n",
    "    def speak(self, sound):\n",
    "        return f\"{self.name} says {sound}\"\n",
    "\n",
    "```"
   ]
  },
  {
   "cell_type": "markdown",
   "id": "a82816f4",
   "metadata": {},
   "source": [
    "## Object\n",
    "\n",
    "#### Definition:\n",
    "An object is an instance of a class. It is created using the class blueprint and can have unique values for its attributes.\n",
    "\n",
    "```python\n",
    "# Creating an object of the Dog class\n",
    "my_dog = Dog(\"Buddy\", 3)\n",
    "\n",
    "# Accessing attributes and methods\n",
    "print(my_dog.description())  # Output: Buddy is 3 years old\n",
    "print(my_dog.speak(\"Woof Woof\"))  # Output: Buddy says Woof Woof\n",
    "\n",
    "```\n",
    "\n",
    "\n"
   ]
  },
  {
   "cell_type": "markdown",
   "id": "be009929",
   "metadata": {},
   "source": [
    "# Inheritance\n",
    "\n",
    "#### Definition: \n",
    "Inheritance allows a class to inherit attributes and methods from another class. This promotes code reuse and establishes a relationship between the parent (base) class and the child (derived) class.\n",
    "\n",
    "\n",
    "```python\n",
    "class Animal:\n",
    "    def __init__(self, name):\n",
    "        self.name = name\n",
    "\n",
    "    def speak(self, sound):\n",
    "        return f\"{self.name} says {sound}\"\n",
    "\n",
    "# Dog class inherits from Animal class\n",
    "class Dog(Animal):\n",
    "    def fetch(self, item):\n",
    "        return f\"{self.name} fetches the {item}\"\n",
    "\n",
    "my_dog = Dog(\"Buddy\")\n",
    "print(my_dog.speak(\"Woof\"))  # Output: Buddy says Woof\n",
    "print(my_dog.fetch(\"ball\"))  # Output: Buddy fetches the ball\n",
    "\n",
    "```"
   ]
  },
  {
   "cell_type": "markdown",
   "id": "b7108405",
   "metadata": {},
   "source": [
    "# Encapsulation\n",
    "\n",
    "#### Definition: \n",
    "Encapsulation is the concept of bundling the data (attributes) and methods (functions) that operate on the data into a single unit, or class, and restricting access to some of the object's components.\n",
    "\n",
    "```python\n",
    "class Person:\n",
    "    def __init__(self, name, age):\n",
    "        self.name = name\n",
    "        self.__age = age  # Private attribute\n",
    "\n",
    "    # Getter method\n",
    "    def get_age(self):\n",
    "        return self.__age\n",
    "\n",
    "    # Setter method\n",
    "    def set_age(self, age):\n",
    "        if age > 0:\n",
    "            self.__age = age\n",
    "\n",
    "person = Person(\"Alice\", 30)\n",
    "print(person.name)  # Output: Alice\n",
    "print(person.get_age())  # Output: 30\n",
    "person.set_age(31)\n",
    "print(person.get_age())  # Output: 31\n",
    "\n",
    "```"
   ]
  },
  {
   "cell_type": "markdown",
   "id": "cdd8b806",
   "metadata": {},
   "source": [
    "# Polymorphism\n",
    "\n",
    "### Definition: \n",
    "Polymorphism allows methods to be used interchangeably between objects of different classes that are related by inheritance. It enables a single interface to represent different underlying data types.\n",
    "\n",
    "```python\n",
    "class Cat(Animal):\n",
    "    def speak(self, sound=\"Meow\"):\n",
    "        return super().speak(sound)\n",
    "\n",
    "my_dog = Dog(\"Buddy\")\n",
    "my_cat = Cat(\"Whiskers\")\n",
    "\n",
    "for pet in (my_dog, my_cat):\n",
    "    print(pet.speak())\n",
    "\n",
    "```"
   ]
  },
  {
   "cell_type": "markdown",
   "id": "abe655e8",
   "metadata": {},
   "source": [
    "# Summary\n",
    "- Class: A blueprint for creating objects.\n",
    "- Object: An instance of a class.\n",
    "- Inheritance: Mechanism for a new class to inherit attributes and methods from an existing class.\n",
    "- Encapsulation: Bundling data and methods within a class and restricting access to some components.\n",
    "- Polymorphism: The ability to use methods interchangeably between different objects of related classes."
   ]
  },
  {
   "cell_type": "code",
   "execution_count": null,
   "id": "11d0e922",
   "metadata": {},
   "outputs": [],
   "source": []
  }
 ],
 "metadata": {
  "kernelspec": {
   "display_name": "Python 3 (ipykernel)",
   "language": "python",
   "name": "python3"
  },
  "language_info": {
   "codemirror_mode": {
    "name": "ipython",
    "version": 3
   },
   "file_extension": ".py",
   "mimetype": "text/x-python",
   "name": "python",
   "nbconvert_exporter": "python",
   "pygments_lexer": "ipython3",
   "version": "3.11.3"
  }
 },
 "nbformat": 4,
 "nbformat_minor": 5
}
