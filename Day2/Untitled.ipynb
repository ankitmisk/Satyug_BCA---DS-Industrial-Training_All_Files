{
 "cells": [
  {
   "cell_type": "code",
   "execution_count": 8,
   "id": "dff3c98f",
   "metadata": {},
   "outputs": [
    {
     "name": "stdout",
     "output_type": "stream",
     "text": [
      "0 ajay\n",
      "1 ravi\n",
      "3 karan\n",
      "4 shivam\n"
     ]
    }
   ],
   "source": [
    "data = ['ajay','ravi','akshay','karan','shivam']\n",
    "\n",
    "import time\n",
    "for i,j in enumerate(data):\n",
    "    if i == 2:\n",
    "        continue\n",
    "    else:\n",
    "        print(i,j)\n",
    "    time.sleep(1)"
   ]
  },
  {
   "cell_type": "code",
   "execution_count": null,
   "id": "59baad12",
   "metadata": {},
   "outputs": [],
   "source": []
  },
  {
   "cell_type": "code",
   "execution_count": null,
   "id": "fbcff813",
   "metadata": {},
   "outputs": [],
   "source": []
  },
  {
   "cell_type": "code",
   "execution_count": 9,
   "id": "6004be4c",
   "metadata": {},
   "outputs": [
    {
     "data": {
      "text/plain": [
       "{'Names': ['ajay', 'ravi', 'jatin'],\n",
       " 'Maths': [18, 20, 17],\n",
       " 'Hindi': [20, 12, 18],\n",
       " 'Sci': [20, 11, 10]}"
      ]
     },
     "execution_count": 9,
     "metadata": {},
     "output_type": "execute_result"
    }
   ],
   "source": [
    "data = {'Names':['ajay','ravi','jatin'],\n",
    "       'Maths':[18,20,17],\n",
    "       'Hindi':[20,12,18],\n",
    "       'Sci':[20,11,10]}\n",
    "\n",
    "\n",
    "data"
   ]
  },
  {
   "cell_type": "code",
   "execution_count": 11,
   "id": "ebf32941",
   "metadata": {},
   "outputs": [],
   "source": [
    "import pandas as pd"
   ]
  },
  {
   "cell_type": "code",
   "execution_count": 13,
   "id": "646a9848",
   "metadata": {},
   "outputs": [],
   "source": [
    "table = pd.DataFrame(data)"
   ]
  },
  {
   "cell_type": "code",
   "execution_count": 17,
   "id": "a10e1439",
   "metadata": {},
   "outputs": [],
   "source": [
    "table.to_excel('myfile.xlsx')"
   ]
  },
  {
   "cell_type": "code",
   "execution_count": 18,
   "id": "053a0201",
   "metadata": {},
   "outputs": [],
   "source": [
    "table.to_csv('myfile.csv')"
   ]
  },
  {
   "cell_type": "code",
   "execution_count": null,
   "id": "f070931e",
   "metadata": {},
   "outputs": [],
   "source": []
  },
  {
   "cell_type": "code",
   "execution_count": null,
   "id": "c6ce4554",
   "metadata": {},
   "outputs": [],
   "source": []
  },
  {
   "cell_type": "code",
   "execution_count": 19,
   "id": "bf803aab",
   "metadata": {},
   "outputs": [],
   "source": [
    "data = {'Names':['ajay','ravi','jatin'],\n",
    "       'Maths':[18,20,17],\n",
    "       'Hindi':[20,12,18],\n",
    "       'Sci':[20,11,10]}\n"
   ]
  },
  {
   "cell_type": "code",
   "execution_count": 21,
   "id": "a556f3ba",
   "metadata": {},
   "outputs": [
    {
     "data": {
      "text/plain": [
       "[18, 20, 17]"
      ]
     },
     "execution_count": 21,
     "metadata": {},
     "output_type": "execute_result"
    }
   ],
   "source": [
    "data['Maths']"
   ]
  },
  {
   "cell_type": "code",
   "execution_count": 22,
   "id": "b02af894",
   "metadata": {},
   "outputs": [
    {
     "data": {
      "text/plain": [
       "[20, 20, 20, 20, 20, 20, 20, 20, 20, 20]"
      ]
     },
     "execution_count": 22,
     "metadata": {},
     "output_type": "execute_result"
    }
   ],
   "source": [
    "[20]*10"
   ]
  },
  {
   "cell_type": "code",
   "execution_count": 23,
   "id": "d8233006",
   "metadata": {},
   "outputs": [],
   "source": [
    "data['Maths'] = [20]*3"
   ]
  },
  {
   "cell_type": "code",
   "execution_count": 24,
   "id": "e29ae10c",
   "metadata": {},
   "outputs": [
    {
     "data": {
      "text/plain": [
       "{'Names': ['ajay', 'ravi', 'jatin'],\n",
       " 'Maths': [20, 20, 20],\n",
       " 'Hindi': [20, 12, 18],\n",
       " 'Sci': [20, 11, 10]}"
      ]
     },
     "execution_count": 24,
     "metadata": {},
     "output_type": "execute_result"
    }
   ],
   "source": [
    "data"
   ]
  },
  {
   "cell_type": "code",
   "execution_count": 27,
   "id": "c9040038",
   "metadata": {},
   "outputs": [
    {
     "ename": "TypeError",
     "evalue": "'tuple' object does not support item assignment",
     "output_type": "error",
     "traceback": [
      "\u001b[1;31m---------------------------------------------------------------------------\u001b[0m",
      "\u001b[1;31mTypeError\u001b[0m                                 Traceback (most recent call last)",
      "Cell \u001b[1;32mIn[27], line 3\u001b[0m\n\u001b[0;32m      1\u001b[0m var \u001b[38;5;241m=\u001b[39m (\u001b[38;5;241m2\u001b[39m,\u001b[38;5;241m423\u001b[39m,\u001b[38;5;241m42\u001b[39m,\u001b[38;5;241m135\u001b[39m)\n\u001b[1;32m----> 3\u001b[0m var[\u001b[38;5;241m2\u001b[39m] \u001b[38;5;241m=\u001b[39m \u001b[38;5;241m23456432\u001b[39m\n",
      "\u001b[1;31mTypeError\u001b[0m: 'tuple' object does not support item assignment"
     ]
    }
   ],
   "source": [
    "var = (2,423,42,135)\n",
    "\n",
    "var[2] = 23456432"
   ]
  },
  {
   "cell_type": "code",
   "execution_count": 32,
   "id": "ba090ef7",
   "metadata": {},
   "outputs": [
    {
     "name": "stdout",
     "output_type": "stream",
     "text": [
      "Names ['ajay', 'ravi', 'jatin']\n",
      "Maths [20, 20, 20]\n",
      "Hindi [20, 12, 18]\n",
      "Sci [20, 11, 10]\n"
     ]
    }
   ],
   "source": [
    "for i in data:\n",
    "    print(i,data[i])"
   ]
  },
  {
   "cell_type": "code",
   "execution_count": 37,
   "id": "60a54bc6",
   "metadata": {},
   "outputs": [
    {
     "name": "stdout",
     "output_type": "stream",
     "text": [
      "Enter your Names: karan\n",
      "Enter your Maths: 34\n",
      "Enter your Hindi: 23\n",
      "Enter your Sci: 23\n"
     ]
    }
   ],
   "source": [
    "for i in data:\n",
    "    data[i] = input(f'Enter your {i}: ')\n",
    "    "
   ]
  },
  {
   "cell_type": "code",
   "execution_count": 38,
   "id": "59e1b9f1",
   "metadata": {},
   "outputs": [
    {
     "data": {
      "text/plain": [
       "{'Names': 'karan', 'Maths': '34', 'Hindi': '23', 'Sci': '23'}"
      ]
     },
     "execution_count": 38,
     "metadata": {},
     "output_type": "execute_result"
    }
   ],
   "source": [
    "data"
   ]
  },
  {
   "cell_type": "code",
   "execution_count": 39,
   "id": "e35643ca",
   "metadata": {},
   "outputs": [
    {
     "data": {
      "text/plain": [
       "['jatin', 'karan', 'ravi']"
      ]
     },
     "execution_count": 39,
     "metadata": {},
     "output_type": "execute_result"
    }
   ],
   "source": [
    "students = ['jatin','karan','ravi']\n",
    "\n",
    "students"
   ]
  },
  {
   "cell_type": "code",
   "execution_count": 41,
   "id": "2a101f65",
   "metadata": {},
   "outputs": [],
   "source": [
    "students.append('gaurav')"
   ]
  },
  {
   "cell_type": "code",
   "execution_count": 43,
   "id": "0b4f4bdc",
   "metadata": {},
   "outputs": [
    {
     "data": {
      "text/plain": [
       "['jatin', 'karan', 'ravi', 'gaurav']"
      ]
     },
     "execution_count": 43,
     "metadata": {},
     "output_type": "execute_result"
    }
   ],
   "source": [
    "students"
   ]
  },
  {
   "cell_type": "code",
   "execution_count": null,
   "id": "6f800d03",
   "metadata": {},
   "outputs": [],
   "source": []
  },
  {
   "cell_type": "code",
   "execution_count": 46,
   "id": "292f88b0",
   "metadata": {},
   "outputs": [],
   "source": [
    "data = {'Names':['ajay','ravi','jatin'],\n",
    "       'Maths':[18,20,17],\n",
    "       'Hindi':[20,12,18],\n",
    "       'Sci':[20,11,10]}\n"
   ]
  },
  {
   "cell_type": "code",
   "execution_count": 48,
   "id": "b9ca75fb",
   "metadata": {},
   "outputs": [
    {
     "name": "stdout",
     "output_type": "stream",
     "text": [
      "Enter your Names: mukul\n",
      "Enter your Maths: 23\n",
      "Enter your Hindi: 21\n",
      "Enter your Sci: 25\n",
      "Record inserted successfully!!\n",
      "Enter your Names: komal\n",
      "Enter your Maths: 21\n",
      "Enter your Hindi: 22\n",
      "Enter your Sci: 23\n",
      "Record inserted successfully!!\n",
      "Enter your Names: akshay\n",
      "Enter your Maths: 20\n",
      "Enter your Hindi: 19\n",
      "Enter your Sci: 18\n",
      "Record inserted successfully!!\n",
      "Enter your Names: kavya\n",
      "Enter your Maths: 20\n",
      "Enter your Hindi: 19\n",
      "Enter your Sci: 19\n",
      "Record inserted successfully!!\n"
     ]
    }
   ],
   "source": [
    "for i in range(4):\n",
    "    for j in data:\n",
    "        data[j].append(input(f'Enter your {j}: '))\n",
    "    \n",
    "    print('Record inserted successfully!!')"
   ]
  },
  {
   "cell_type": "code",
   "execution_count": 49,
   "id": "211228d1",
   "metadata": {},
   "outputs": [
    {
     "data": {
      "text/plain": [
       "{'Names': ['ajay', 'ravi', 'jatin', 'mukul', 'komal', 'akshay', 'kavya'],\n",
       " 'Maths': [18, 20, 17, '23', '21', '20', '20'],\n",
       " 'Hindi': [20, 12, 18, '21', '22', '19', '19'],\n",
       " 'Sci': [20, 11, 10, '25', '23', '18', '19']}"
      ]
     },
     "execution_count": 49,
     "metadata": {},
     "output_type": "execute_result"
    }
   ],
   "source": [
    "data"
   ]
  },
  {
   "cell_type": "code",
   "execution_count": null,
   "id": "62ff0196",
   "metadata": {},
   "outputs": [],
   "source": []
  },
  {
   "cell_type": "code",
   "execution_count": null,
   "id": "84698a79",
   "metadata": {},
   "outputs": [],
   "source": []
  },
  {
   "cell_type": "code",
   "execution_count": null,
   "id": "3d1beb67",
   "metadata": {},
   "outputs": [],
   "source": []
  },
  {
   "cell_type": "markdown",
   "id": "16045063",
   "metadata": {},
   "source": [
    "# Functions"
   ]
  },
  {
   "cell_type": "code",
   "execution_count": 50,
   "id": "4cf7bc30",
   "metadata": {},
   "outputs": [],
   "source": [
    "def add(a,b):\n",
    "    print(a + b)"
   ]
  },
  {
   "cell_type": "code",
   "execution_count": 51,
   "id": "a400a44f",
   "metadata": {},
   "outputs": [
    {
     "name": "stdout",
     "output_type": "stream",
     "text": [
      "30\n"
     ]
    }
   ],
   "source": [
    "add(10,20)"
   ]
  },
  {
   "cell_type": "code",
   "execution_count": 52,
   "id": "677789e1",
   "metadata": {},
   "outputs": [],
   "source": [
    "def greet(name):\n",
    "    print(f'Hello {name}, how are you??')"
   ]
  },
  {
   "cell_type": "code",
   "execution_count": 54,
   "id": "5c044620",
   "metadata": {},
   "outputs": [
    {
     "name": "stdout",
     "output_type": "stream",
     "text": [
      "Hello ajay, how are you??\n"
     ]
    }
   ],
   "source": [
    "greet('ajay')"
   ]
  },
  {
   "cell_type": "code",
   "execution_count": 55,
   "id": "3aa242aa",
   "metadata": {},
   "outputs": [
    {
     "name": "stdout",
     "output_type": "stream",
     "text": [
      "Requirement already satisfied: gTTS in c:\\users\\lenovo\\anaconda3\\lib\\site-packages (2.3.2)\n",
      "Requirement already satisfied: requests<3,>=2.27 in c:\\users\\lenovo\\anaconda3\\lib\\site-packages (from gTTS) (2.31.0)\n",
      "Requirement already satisfied: click<8.2,>=7.1 in c:\\users\\lenovo\\anaconda3\\lib\\site-packages (from gTTS) (8.1.3)\n",
      "Requirement already satisfied: colorama in c:\\users\\lenovo\\anaconda3\\lib\\site-packages (from click<8.2,>=7.1->gTTS) (0.4.6)\n",
      "Requirement already satisfied: charset-normalizer<4,>=2 in c:\\users\\lenovo\\anaconda3\\lib\\site-packages (from requests<3,>=2.27->gTTS) (2.0.4)\n",
      "Requirement already satisfied: idna<4,>=2.5 in c:\\users\\lenovo\\anaconda3\\lib\\site-packages (from requests<3,>=2.27->gTTS) (3.4)\n",
      "Requirement already satisfied: urllib3<3,>=1.21.1 in c:\\users\\lenovo\\anaconda3\\lib\\site-packages (from requests<3,>=2.27->gTTS) (1.26.16)\n",
      "Requirement already satisfied: certifi>=2017.4.17 in c:\\users\\lenovo\\anaconda3\\lib\\site-packages (from requests<3,>=2.27->gTTS) (2023.5.7)\n",
      "Note: you may need to restart the kernel to use updated packages.\n"
     ]
    }
   ],
   "source": [
    "pip install gTTS"
   ]
  },
  {
   "cell_type": "code",
   "execution_count": 57,
   "id": "92f21705",
   "metadata": {},
   "outputs": [
    {
     "name": "stdout",
     "output_type": "stream",
     "text": [
      "done\n"
     ]
    }
   ],
   "source": [
    "from gtts import gTTS\n",
    "print('done')"
   ]
  },
  {
   "cell_type": "code",
   "execution_count": 58,
   "id": "dbce1ae3",
   "metadata": {},
   "outputs": [
    {
     "name": "stdout",
     "output_type": "stream",
     "text": [
      "pygame 2.5.1 (SDL 2.28.2, Python 3.11.3)\n",
      "Hello from the pygame community. https://www.pygame.org/contribute.html\n"
     ]
    }
   ],
   "source": []
  },
  {
   "cell_type": "code",
   "execution_count": 59,
   "id": "189824b6",
   "metadata": {},
   "outputs": [
    {
     "name": "stdout",
     "output_type": "stream",
     "text": [
      "Requirement already satisfied: pygame in c:\\users\\lenovo\\anaconda3\\lib\\site-packages (2.5.1)\n",
      "Note: you may need to restart the kernel to use updated packages.\n"
     ]
    }
   ],
   "source": [
    "pip install pygame"
   ]
  },
  {
   "cell_type": "code",
   "execution_count": 61,
   "id": "10d64384",
   "metadata": {},
   "outputs": [],
   "source": [
    "import pygame"
   ]
  },
  {
   "cell_type": "code",
   "execution_count": 64,
   "id": "f6f2ae0e",
   "metadata": {},
   "outputs": [
    {
     "data": {
      "text/plain": [
       "<pygame.mixer.Channel at 0x1f6c5d16050>"
      ]
     },
     "execution_count": 64,
     "metadata": {},
     "output_type": "execute_result"
    }
   ],
   "source": [
    "pygame.init()\n",
    "text = gTTS('Hello Aman how are you')\n",
    "text.save('myfile.mp3')\n",
    "\n",
    "audio = pygame.mixer.Sound('myfile.mp3')\n",
    "audio.play()"
   ]
  },
  {
   "cell_type": "code",
   "execution_count": null,
   "id": "a5c2d25e",
   "metadata": {},
   "outputs": [],
   "source": []
  },
  {
   "cell_type": "code",
   "execution_count": null,
   "id": "f8e2776e",
   "metadata": {},
   "outputs": [],
   "source": []
  },
  {
   "cell_type": "code",
   "execution_count": 67,
   "id": "21307203",
   "metadata": {},
   "outputs": [],
   "source": [
    "def greet_and_speech(name):\n",
    "    text = gTTS(f'Hello {name} how are you')\n",
    "    text.save('myfile.mp3')\n",
    "\n",
    "    audio = pygame.mixer.Sound('myfile.mp3')\n",
    "    audio.play()"
   ]
  },
  {
   "cell_type": "code",
   "execution_count": 69,
   "id": "a44bc165",
   "metadata": {},
   "outputs": [],
   "source": [
    "greet_and_speech('ravi')"
   ]
  },
  {
   "cell_type": "code",
   "execution_count": null,
   "id": "e5545aee",
   "metadata": {},
   "outputs": [],
   "source": []
  },
  {
   "cell_type": "code",
   "execution_count": 74,
   "id": "2bdd2fb0",
   "metadata": {},
   "outputs": [],
   "source": [
    "def info(a = 30 ,b=10,c = 20):\n",
    "    '''This is an info func\n",
    "    ex : info()\n",
    "    ans : 40'''\n",
    "    return a - b + c "
   ]
  },
  {
   "cell_type": "code",
   "execution_count": 71,
   "id": "43e0dc33",
   "metadata": {},
   "outputs": [
    {
     "data": {
      "text/plain": [
       "40"
      ]
     },
     "execution_count": 71,
     "metadata": {},
     "output_type": "execute_result"
    }
   ],
   "source": [
    "info()"
   ]
  },
  {
   "cell_type": "code",
   "execution_count": 72,
   "id": "990bf736",
   "metadata": {},
   "outputs": [
    {
     "data": {
      "text/plain": [
       "120"
      ]
     },
     "execution_count": 72,
     "metadata": {},
     "output_type": "execute_result"
    }
   ],
   "source": [
    "info(a = 50, c = 80)"
   ]
  },
  {
   "cell_type": "code",
   "execution_count": 75,
   "id": "6240b604",
   "metadata": {},
   "outputs": [
    {
     "data": {
      "text/plain": [
       "4"
      ]
     },
     "execution_count": 75,
     "metadata": {},
     "output_type": "execute_result"
    }
   ],
   "source": [
    "len('ajay')"
   ]
  },
  {
   "cell_type": "code",
   "execution_count": 76,
   "id": "5203e298",
   "metadata": {},
   "outputs": [
    {
     "data": {
      "text/plain": [
       "'a'"
      ]
     },
     "execution_count": 76,
     "metadata": {},
     "output_type": "execute_result"
    }
   ],
   "source": [
    "min('ajay')"
   ]
  },
  {
   "cell_type": "code",
   "execution_count": 77,
   "id": "1f7727b6",
   "metadata": {},
   "outputs": [
    {
     "data": {
      "text/plain": [
       "'y'"
      ]
     },
     "execution_count": 77,
     "metadata": {},
     "output_type": "execute_result"
    }
   ],
   "source": [
    "max('ajay')"
   ]
  },
  {
   "cell_type": "code",
   "execution_count": null,
   "id": "95e87a33",
   "metadata": {},
   "outputs": [],
   "source": [
    "data = \n",
    "\n",
    "\n",
    "'ant'\n",
    "'tan'\n",
    "'atn'\n",
    "'nat'\n",
    "'nta'\n",
    "'tna'\n"
   ]
  },
  {
   "cell_type": "code",
   "execution_count": 78,
   "id": "ecc8563f",
   "metadata": {},
   "outputs": [],
   "source": [
    "# 'word'\n",
    "\n"
   ]
  },
  {
   "cell_type": "code",
   "execution_count": 84,
   "id": "f9027f57",
   "metadata": {},
   "outputs": [],
   "source": [
    "def factorial(num):\n",
    "    result = 1\n",
    "    \n",
    "    for i in range(1,num+1):\n",
    "        result*= i\n",
    "\n",
    "    return result\n",
    "    "
   ]
  },
  {
   "cell_type": "code",
   "execution_count": 85,
   "id": "69eb694f",
   "metadata": {},
   "outputs": [
    {
     "data": {
      "text/plain": [
       "479001600"
      ]
     },
     "execution_count": 85,
     "metadata": {},
     "output_type": "execute_result"
    }
   ],
   "source": [
    "factorial(12)"
   ]
  },
  {
   "cell_type": "code",
   "execution_count": null,
   "id": "8dea3798",
   "metadata": {},
   "outputs": [],
   "source": []
  },
  {
   "cell_type": "code",
   "execution_count": null,
   "id": "fae70170",
   "metadata": {},
   "outputs": [],
   "source": []
  },
  {
   "cell_type": "code",
   "execution_count": 86,
   "id": "a0506045",
   "metadata": {},
   "outputs": [
    {
     "name": "stdout",
     "output_type": "stream",
     "text": [
      "done\n"
     ]
    }
   ],
   "source": [
    "import satyug\n",
    "print('done')"
   ]
  },
  {
   "cell_type": "code",
   "execution_count": 87,
   "id": "77779398",
   "metadata": {},
   "outputs": [
    {
     "data": {
      "text/plain": [
       "24"
      ]
     },
     "execution_count": 87,
     "metadata": {},
     "output_type": "execute_result"
    }
   ],
   "source": [
    "satyug.factorial(4)"
   ]
  },
  {
   "cell_type": "code",
   "execution_count": 88,
   "id": "6ceb0a22",
   "metadata": {},
   "outputs": [
    {
     "data": {
      "text/plain": [
       "40"
      ]
     },
     "execution_count": 88,
     "metadata": {},
     "output_type": "execute_result"
    }
   ],
   "source": [
    "satyug.info()"
   ]
  },
  {
   "cell_type": "code",
   "execution_count": 89,
   "id": "1454a8fe",
   "metadata": {},
   "outputs": [],
   "source": [
    "import satyug as s"
   ]
  },
  {
   "cell_type": "code",
   "execution_count": 90,
   "id": "22f90531",
   "metadata": {},
   "outputs": [
    {
     "data": {
      "text/plain": [
       "40"
      ]
     },
     "execution_count": 90,
     "metadata": {},
     "output_type": "execute_result"
    }
   ],
   "source": [
    "s.info()"
   ]
  },
  {
   "cell_type": "code",
   "execution_count": 91,
   "id": "d7fb4c30",
   "metadata": {},
   "outputs": [],
   "source": [
    "from satyug import factorial"
   ]
  },
  {
   "cell_type": "code",
   "execution_count": 92,
   "id": "d2ac3d66",
   "metadata": {},
   "outputs": [
    {
     "data": {
      "text/plain": [
       "265252859812191058636308480000000"
      ]
     },
     "execution_count": 92,
     "metadata": {},
     "output_type": "execute_result"
    }
   ],
   "source": [
    "factorial(30)"
   ]
  },
  {
   "cell_type": "code",
   "execution_count": null,
   "id": "b506b497",
   "metadata": {},
   "outputs": [],
   "source": []
  },
  {
   "cell_type": "code",
   "execution_count": null,
   "id": "77b03d73",
   "metadata": {},
   "outputs": [],
   "source": []
  },
  {
   "cell_type": "code",
   "execution_count": null,
   "id": "08fa26e4",
   "metadata": {},
   "outputs": [],
   "source": []
  },
  {
   "cell_type": "code",
   "execution_count": 104,
   "id": "a7d7cdcb",
   "metadata": {},
   "outputs": [],
   "source": [
    "class Python:\n",
    "    \n",
    "    def __init__(self):\n",
    "        print('this is my python class')\n",
    "        \n",
    "    def greet(self):\n",
    "        print('welcome!!')\n",
    "        \n",
    "    def how(self,name):\n",
    "        print(f'hello {name}, how are you?')\n",
    "        \n",
    "    def bye(self):\n",
    "        print('Bye!! Bye!!')"
   ]
  },
  {
   "cell_type": "code",
   "execution_count": 105,
   "id": "493b86e5",
   "metadata": {},
   "outputs": [
    {
     "name": "stdout",
     "output_type": "stream",
     "text": [
      "this is my python class\n"
     ]
    }
   ],
   "source": [
    "obj1 = Python()"
   ]
  },
  {
   "cell_type": "code",
   "execution_count": 106,
   "id": "497942e7",
   "metadata": {},
   "outputs": [
    {
     "name": "stdout",
     "output_type": "stream",
     "text": [
      "welcome!!\n"
     ]
    }
   ],
   "source": [
    "obj1.greet()"
   ]
  },
  {
   "cell_type": "code",
   "execution_count": 103,
   "id": "084693f5",
   "metadata": {},
   "outputs": [
    {
     "name": "stdout",
     "output_type": "stream",
     "text": [
      "hello mohan, how are you?\n"
     ]
    }
   ],
   "source": [
    "obj1.how('mohan')"
   ]
  },
  {
   "cell_type": "code",
   "execution_count": null,
   "id": "8ab86a34",
   "metadata": {},
   "outputs": [],
   "source": []
  }
 ],
 "metadata": {
  "kernelspec": {
   "display_name": "Python 3 (ipykernel)",
   "language": "python",
   "name": "python3"
  },
  "language_info": {
   "codemirror_mode": {
    "name": "ipython",
    "version": 3
   },
   "file_extension": ".py",
   "mimetype": "text/x-python",
   "name": "python",
   "nbconvert_exporter": "python",
   "pygments_lexer": "ipython3",
   "version": "3.11.3"
  }
 },
 "nbformat": 4,
 "nbformat_minor": 5
}
