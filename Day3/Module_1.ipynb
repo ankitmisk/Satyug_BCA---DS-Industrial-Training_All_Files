{
 "cells": [
  {
   "cell_type": "markdown",
   "id": "1f5dc258",
   "metadata": {},
   "source": [
    "# NumPy Array in Python\n",
    "## Introduction to NumPy Arrays\n",
    "NumPy (Numerical Python) is a library for Python programming that supports large, multi-dimensional arrays and matrices, along with a large collection of high-level mathematical functions to operate on these arrays.\n",
    "\n",
    "Creating NumPy Arrays\n",
    "Importing NumPy\n",
    "To use NumPy, you first need to import it:"
   ]
  },
  {
   "cell_type": "code",
   "execution_count": 1,
   "id": "395a66fb",
   "metadata": {},
   "outputs": [],
   "source": [
    "import numpy as np\n"
   ]
  },
  {
   "cell_type": "markdown",
   "id": "f5366747",
   "metadata": {},
   "source": [
    "## Creating Arrays\n",
    "From a List\n",
    "You can create a NumPy array from a Python list or tuple using the np.array function:\n",
    "\n"
   ]
  },
  {
   "cell_type": "code",
   "execution_count": 1,
   "id": "3bbdf06c",
   "metadata": {
    "scrolled": true
   },
   "outputs": [
    {
     "data": {
      "text/plain": [
       "[12, 76, 87, 86, 12, 76, 87, 86]"
      ]
     },
     "execution_count": 1,
     "metadata": {},
     "output_type": "execute_result"
    }
   ],
   "source": [
    "import numpy as np\n",
    "\n",
    "s = [12,76,87,86]\n",
    "\n",
    "s*2"
   ]
  },
  {
   "cell_type": "code",
   "execution_count": 3,
   "id": "45ca5645",
   "metadata": {},
   "outputs": [
    {
     "data": {
      "text/plain": [
       "array([ 24, 152, 174, 172])"
      ]
     },
     "execution_count": 3,
     "metadata": {},
     "output_type": "execute_result"
    }
   ],
   "source": [
    "d = np.array(s)\n",
    "\n",
    "d*2"
   ]
  },
  {
   "cell_type": "code",
   "execution_count": 6,
   "id": "fedf28fb",
   "metadata": {},
   "outputs": [
    {
     "data": {
      "text/plain": [
       "array([12, 76, 87, 86])"
      ]
     },
     "execution_count": 6,
     "metadata": {},
     "output_type": "execute_result"
    }
   ],
   "source": [
    "d"
   ]
  },
  {
   "cell_type": "code",
   "execution_count": 7,
   "id": "b2191534",
   "metadata": {},
   "outputs": [
    {
     "data": {
      "text/plain": [
       "array([22, 86, 97, 96])"
      ]
     },
     "execution_count": 7,
     "metadata": {},
     "output_type": "execute_result"
    }
   ],
   "source": [
    "d+10"
   ]
  },
  {
   "cell_type": "markdown",
   "id": "5181149f",
   "metadata": {},
   "source": [
    "# From a Tuple\n",
    "Similarly, you can create an array from a tuple:"
   ]
  },
  {
   "cell_type": "code",
   "execution_count": 8,
   "id": "2d3a70d3",
   "metadata": {
    "scrolled": true
   },
   "outputs": [
    {
     "data": {
      "text/plain": [
       "(123, 345, 45, 46, 68)"
      ]
     },
     "execution_count": 8,
     "metadata": {},
     "output_type": "execute_result"
    }
   ],
   "source": [
    "f = (123,345,45,46,68)\n",
    "\n",
    "f"
   ]
  },
  {
   "cell_type": "code",
   "execution_count": 9,
   "id": "6d679aae",
   "metadata": {
    "scrolled": true
   },
   "outputs": [
    {
     "data": {
      "text/plain": [
       "array([123, 345,  45,  46,  68])"
      ]
     },
     "execution_count": 9,
     "metadata": {},
     "output_type": "execute_result"
    }
   ],
   "source": [
    "g = np.array(f)\n",
    "g"
   ]
  },
  {
   "cell_type": "code",
   "execution_count": 10,
   "id": "cf58ebaf",
   "metadata": {},
   "outputs": [
    {
     "data": {
      "text/plain": [
       "numpy.ndarray"
      ]
     },
     "execution_count": 10,
     "metadata": {},
     "output_type": "execute_result"
    }
   ],
   "source": [
    "type(g)"
   ]
  },
  {
   "cell_type": "markdown",
   "id": "3eeb9639",
   "metadata": {},
   "source": [
    "# Using Built-in Functions\n",
    "NumPy provides several functions to create arrays with specific values:\n",
    "\n",
    "np.zeros(shape): Creates an array filled with zeros."
   ]
  },
  {
   "cell_type": "code",
   "execution_count": 14,
   "id": "2ec2732e",
   "metadata": {},
   "outputs": [
    {
     "data": {
      "text/plain": [
       "array([[0., 0., 0., 0., 0.],\n",
       "       [0., 0., 0., 0., 0.],\n",
       "       [0., 0., 0., 0., 0.],\n",
       "       [0., 0., 0., 0., 0.],\n",
       "       [0., 0., 0., 0., 0.]])"
      ]
     },
     "execution_count": 14,
     "metadata": {},
     "output_type": "execute_result"
    }
   ],
   "source": [
    "# np.zeros((shape))\n",
    "\n",
    "np.zeros((5,5))"
   ]
  },
  {
   "cell_type": "markdown",
   "id": "c3693cca",
   "metadata": {},
   "source": [
    "# np.ones(shape): Creates an array filled with ones."
   ]
  },
  {
   "cell_type": "code",
   "execution_count": 17,
   "id": "165a03a8",
   "metadata": {},
   "outputs": [
    {
     "data": {
      "text/plain": [
       "array([[100., 100., 100., 100., 100.],\n",
       "       [100., 100., 100., 100., 100.],\n",
       "       [100., 100., 100., 100., 100.],\n",
       "       [100., 100., 100., 100., 100.],\n",
       "       [100., 100., 100., 100., 100.]])"
      ]
     },
     "execution_count": 17,
     "metadata": {},
     "output_type": "execute_result"
    }
   ],
   "source": [
    "np.ones((5,5))*100"
   ]
  },
  {
   "cell_type": "markdown",
   "id": "b001ed9d",
   "metadata": {},
   "source": [
    "# np.full(shape, fill_value): Creates an array filled with a specified value."
   ]
  },
  {
   "cell_type": "code",
   "execution_count": 21,
   "id": "5227cbc5",
   "metadata": {},
   "outputs": [
    {
     "data": {
      "text/plain": [
       "array([['007', '007', '007'],\n",
       "       ['007', '007', '007'],\n",
       "       ['007', '007', '007'],\n",
       "       ['007', '007', '007'],\n",
       "       ['007', '007', '007']], dtype='<U3')"
      ]
     },
     "execution_count": 21,
     "metadata": {},
     "output_type": "execute_result"
    }
   ],
   "source": [
    "np.full((5,3),'007')"
   ]
  },
  {
   "cell_type": "code",
   "execution_count": null,
   "id": "33f729cf",
   "metadata": {},
   "outputs": [],
   "source": []
  },
  {
   "cell_type": "code",
   "execution_count": 25,
   "id": "80910c0c",
   "metadata": {},
   "outputs": [
    {
     "data": {
      "text/plain": [
       "array([[[47, 34, 17],\n",
       "        [13, 35, 27],\n",
       "        [28, 99, 23]],\n",
       "\n",
       "       [[53, 20,  6],\n",
       "        [67,  4, 86],\n",
       "        [56, 43, 11]],\n",
       "\n",
       "       [[74, 87, 92],\n",
       "        [67, 85, 19],\n",
       "        [80, 75, 37]]])"
      ]
     },
     "execution_count": 25,
     "metadata": {},
     "output_type": "execute_result"
    }
   ],
   "source": [
    "np.random.randint(1,100,(3,3,3))"
   ]
  },
  {
   "cell_type": "markdown",
   "id": "6183a112",
   "metadata": {},
   "source": [
    "# np.eye(n): Creates an identity matrix."
   ]
  },
  {
   "cell_type": "code",
   "execution_count": 27,
   "id": "dbd58422",
   "metadata": {},
   "outputs": [
    {
     "data": {
      "text/plain": [
       "array([[1., 0., 0., 0., 0.],\n",
       "       [0., 1., 0., 0., 0.],\n",
       "       [0., 0., 1., 0., 0.],\n",
       "       [0., 0., 0., 1., 0.],\n",
       "       [0., 0., 0., 0., 1.]])"
      ]
     },
     "execution_count": 27,
     "metadata": {},
     "output_type": "execute_result"
    }
   ],
   "source": [
    "np.eye((5))"
   ]
  },
  {
   "cell_type": "markdown",
   "id": "acf3a9a0",
   "metadata": {},
   "source": [
    "# np.arange(start, stop, step): Creates an array with a range of values."
   ]
  },
  {
   "cell_type": "code",
   "execution_count": 29,
   "id": "29e8fed2",
   "metadata": {
    "scrolled": true
   },
   "outputs": [
    {
     "data": {
      "text/plain": [
       "array([ 0,  2,  4,  6,  8, 10, 12, 14, 16, 18, 20, 22, 24])"
      ]
     },
     "execution_count": 29,
     "metadata": {},
     "output_type": "execute_result"
    }
   ],
   "source": [
    "np.arange(0,25,2)"
   ]
  },
  {
   "cell_type": "code",
   "execution_count": 31,
   "id": "72d78d29",
   "metadata": {},
   "outputs": [
    {
     "data": {
      "text/plain": [
       "25"
      ]
     },
     "execution_count": 31,
     "metadata": {},
     "output_type": "execute_result"
    }
   ],
   "source": [
    "len(np.arange(0,25))"
   ]
  },
  {
   "cell_type": "code",
   "execution_count": 35,
   "id": "61787fb7",
   "metadata": {},
   "outputs": [
    {
     "data": {
      "text/plain": [
       "array([[ 0,  1,  2,  3,  4],\n",
       "       [ 5,  6,  7,  8,  9],\n",
       "       [10, 11, 12, 13, 14],\n",
       "       [15, 16, 17, 18, 19],\n",
       "       [20, 21, 22, 23, 24]])"
      ]
     },
     "execution_count": 35,
     "metadata": {},
     "output_type": "execute_result"
    }
   ],
   "source": [
    "np.arange(0,25).reshape(5,5)"
   ]
  },
  {
   "cell_type": "markdown",
   "id": "f193249f",
   "metadata": {},
   "source": [
    "# np.linspace(start, stop, num): Creates an array with linearly spaced values."
   ]
  },
  {
   "cell_type": "code",
   "execution_count": 38,
   "id": "fda7a288",
   "metadata": {},
   "outputs": [
    {
     "data": {
      "text/plain": [
       "array([ 1.        ,  1.09819639,  1.19639279,  1.29458918,  1.39278557,\n",
       "        1.49098196,  1.58917836,  1.68737475,  1.78557114,  1.88376754,\n",
       "        1.98196393,  2.08016032,  2.17835671,  2.27655311,  2.3747495 ,\n",
       "        2.47294589,  2.57114228,  2.66933868,  2.76753507,  2.86573146,\n",
       "        2.96392786,  3.06212425,  3.16032064,  3.25851703,  3.35671343,\n",
       "        3.45490982,  3.55310621,  3.65130261,  3.749499  ,  3.84769539,\n",
       "        3.94589178,  4.04408818,  4.14228457,  4.24048096,  4.33867735,\n",
       "        4.43687375,  4.53507014,  4.63326653,  4.73146293,  4.82965932,\n",
       "        4.92785571,  5.0260521 ,  5.1242485 ,  5.22244489,  5.32064128,\n",
       "        5.41883768,  5.51703407,  5.61523046,  5.71342685,  5.81162325,\n",
       "        5.90981964,  6.00801603,  6.10621242,  6.20440882,  6.30260521,\n",
       "        6.4008016 ,  6.498998  ,  6.59719439,  6.69539078,  6.79358717,\n",
       "        6.89178357,  6.98997996,  7.08817635,  7.18637275,  7.28456914,\n",
       "        7.38276553,  7.48096192,  7.57915832,  7.67735471,  7.7755511 ,\n",
       "        7.87374749,  7.97194389,  8.07014028,  8.16833667,  8.26653307,\n",
       "        8.36472946,  8.46292585,  8.56112224,  8.65931864,  8.75751503,\n",
       "        8.85571142,  8.95390782,  9.05210421,  9.1503006 ,  9.24849699,\n",
       "        9.34669339,  9.44488978,  9.54308617,  9.64128257,  9.73947896,\n",
       "        9.83767535,  9.93587174, 10.03406814, 10.13226453, 10.23046092,\n",
       "       10.32865731, 10.42685371, 10.5250501 , 10.62324649, 10.72144289,\n",
       "       10.81963928, 10.91783567, 11.01603206, 11.11422846, 11.21242485,\n",
       "       11.31062124, 11.40881764, 11.50701403, 11.60521042, 11.70340681,\n",
       "       11.80160321, 11.8997996 , 11.99799599, 12.09619238, 12.19438878,\n",
       "       12.29258517, 12.39078156, 12.48897796, 12.58717435, 12.68537074,\n",
       "       12.78356713, 12.88176353, 12.97995992, 13.07815631, 13.17635271,\n",
       "       13.2745491 , 13.37274549, 13.47094188, 13.56913828, 13.66733467,\n",
       "       13.76553106, 13.86372745, 13.96192385, 14.06012024, 14.15831663,\n",
       "       14.25651303, 14.35470942, 14.45290581, 14.5511022 , 14.6492986 ,\n",
       "       14.74749499, 14.84569138, 14.94388778, 15.04208417, 15.14028056,\n",
       "       15.23847695, 15.33667335, 15.43486974, 15.53306613, 15.63126253,\n",
       "       15.72945892, 15.82765531, 15.9258517 , 16.0240481 , 16.12224449,\n",
       "       16.22044088, 16.31863727, 16.41683367, 16.51503006, 16.61322645,\n",
       "       16.71142285, 16.80961924, 16.90781563, 17.00601202, 17.10420842,\n",
       "       17.20240481, 17.3006012 , 17.3987976 , 17.49699399, 17.59519038,\n",
       "       17.69338677, 17.79158317, 17.88977956, 17.98797595, 18.08617234,\n",
       "       18.18436874, 18.28256513, 18.38076152, 18.47895792, 18.57715431,\n",
       "       18.6753507 , 18.77354709, 18.87174349, 18.96993988, 19.06813627,\n",
       "       19.16633267, 19.26452906, 19.36272545, 19.46092184, 19.55911824,\n",
       "       19.65731463, 19.75551102, 19.85370741, 19.95190381, 20.0501002 ,\n",
       "       20.14829659, 20.24649299, 20.34468938, 20.44288577, 20.54108216,\n",
       "       20.63927856, 20.73747495, 20.83567134, 20.93386774, 21.03206413,\n",
       "       21.13026052, 21.22845691, 21.32665331, 21.4248497 , 21.52304609,\n",
       "       21.62124248, 21.71943888, 21.81763527, 21.91583166, 22.01402806,\n",
       "       22.11222445, 22.21042084, 22.30861723, 22.40681363, 22.50501002,\n",
       "       22.60320641, 22.70140281, 22.7995992 , 22.89779559, 22.99599198,\n",
       "       23.09418838, 23.19238477, 23.29058116, 23.38877756, 23.48697395,\n",
       "       23.58517034, 23.68336673, 23.78156313, 23.87975952, 23.97795591,\n",
       "       24.0761523 , 24.1743487 , 24.27254509, 24.37074148, 24.46893788,\n",
       "       24.56713427, 24.66533066, 24.76352705, 24.86172345, 24.95991984,\n",
       "       25.05811623, 25.15631263, 25.25450902, 25.35270541, 25.4509018 ,\n",
       "       25.5490982 , 25.64729459, 25.74549098, 25.84368737, 25.94188377,\n",
       "       26.04008016, 26.13827655, 26.23647295, 26.33466934, 26.43286573,\n",
       "       26.53106212, 26.62925852, 26.72745491, 26.8256513 , 26.9238477 ,\n",
       "       27.02204409, 27.12024048, 27.21843687, 27.31663327, 27.41482966,\n",
       "       27.51302605, 27.61122244, 27.70941884, 27.80761523, 27.90581162,\n",
       "       28.00400802, 28.10220441, 28.2004008 , 28.29859719, 28.39679359,\n",
       "       28.49498998, 28.59318637, 28.69138277, 28.78957916, 28.88777555,\n",
       "       28.98597194, 29.08416834, 29.18236473, 29.28056112, 29.37875752,\n",
       "       29.47695391, 29.5751503 , 29.67334669, 29.77154309, 29.86973948,\n",
       "       29.96793587, 30.06613226, 30.16432866, 30.26252505, 30.36072144,\n",
       "       30.45891784, 30.55711423, 30.65531062, 30.75350701, 30.85170341,\n",
       "       30.9498998 , 31.04809619, 31.14629259, 31.24448898, 31.34268537,\n",
       "       31.44088176, 31.53907816, 31.63727455, 31.73547094, 31.83366733,\n",
       "       31.93186373, 32.03006012, 32.12825651, 32.22645291, 32.3246493 ,\n",
       "       32.42284569, 32.52104208, 32.61923848, 32.71743487, 32.81563126,\n",
       "       32.91382766, 33.01202405, 33.11022044, 33.20841683, 33.30661323,\n",
       "       33.40480962, 33.50300601, 33.6012024 , 33.6993988 , 33.79759519,\n",
       "       33.89579158, 33.99398798, 34.09218437, 34.19038076, 34.28857715,\n",
       "       34.38677355, 34.48496994, 34.58316633, 34.68136273, 34.77955912,\n",
       "       34.87775551, 34.9759519 , 35.0741483 , 35.17234469, 35.27054108,\n",
       "       35.36873747, 35.46693387, 35.56513026, 35.66332665, 35.76152305,\n",
       "       35.85971944, 35.95791583, 36.05611222, 36.15430862, 36.25250501,\n",
       "       36.3507014 , 36.4488978 , 36.54709419, 36.64529058, 36.74348697,\n",
       "       36.84168337, 36.93987976, 37.03807615, 37.13627255, 37.23446894,\n",
       "       37.33266533, 37.43086172, 37.52905812, 37.62725451, 37.7254509 ,\n",
       "       37.82364729, 37.92184369, 38.02004008, 38.11823647, 38.21643287,\n",
       "       38.31462926, 38.41282565, 38.51102204, 38.60921844, 38.70741483,\n",
       "       38.80561122, 38.90380762, 39.00200401, 39.1002004 , 39.19839679,\n",
       "       39.29659319, 39.39478958, 39.49298597, 39.59118236, 39.68937876,\n",
       "       39.78757515, 39.88577154, 39.98396794, 40.08216433, 40.18036072,\n",
       "       40.27855711, 40.37675351, 40.4749499 , 40.57314629, 40.67134269,\n",
       "       40.76953908, 40.86773547, 40.96593186, 41.06412826, 41.16232465,\n",
       "       41.26052104, 41.35871743, 41.45691383, 41.55511022, 41.65330661,\n",
       "       41.75150301, 41.8496994 , 41.94789579, 42.04609218, 42.14428858,\n",
       "       42.24248497, 42.34068136, 42.43887776, 42.53707415, 42.63527054,\n",
       "       42.73346693, 42.83166333, 42.92985972, 43.02805611, 43.12625251,\n",
       "       43.2244489 , 43.32264529, 43.42084168, 43.51903808, 43.61723447,\n",
       "       43.71543086, 43.81362725, 43.91182365, 44.01002004, 44.10821643,\n",
       "       44.20641283, 44.30460922, 44.40280561, 44.501002  , 44.5991984 ,\n",
       "       44.69739479, 44.79559118, 44.89378758, 44.99198397, 45.09018036,\n",
       "       45.18837675, 45.28657315, 45.38476954, 45.48296593, 45.58116232,\n",
       "       45.67935872, 45.77755511, 45.8757515 , 45.9739479 , 46.07214429,\n",
       "       46.17034068, 46.26853707, 46.36673347, 46.46492986, 46.56312625,\n",
       "       46.66132265, 46.75951904, 46.85771543, 46.95591182, 47.05410822,\n",
       "       47.15230461, 47.250501  , 47.34869739, 47.44689379, 47.54509018,\n",
       "       47.64328657, 47.74148297, 47.83967936, 47.93787575, 48.03607214,\n",
       "       48.13426854, 48.23246493, 48.33066132, 48.42885772, 48.52705411,\n",
       "       48.6252505 , 48.72344689, 48.82164329, 48.91983968, 49.01803607,\n",
       "       49.11623246, 49.21442886, 49.31262525, 49.41082164, 49.50901804,\n",
       "       49.60721443, 49.70541082, 49.80360721, 49.90180361, 50.        ])"
      ]
     },
     "execution_count": 38,
     "metadata": {},
     "output_type": "execute_result"
    }
   ],
   "source": [
    "np.linspace(1,50,500)"
   ]
  },
  {
   "cell_type": "code",
   "execution_count": 40,
   "id": "bfa64dcc",
   "metadata": {},
   "outputs": [
    {
     "data": {
      "text/plain": [
       "array([[[16, 65, 91],\n",
       "        [95, 76, 74],\n",
       "        [50, 46, 23]],\n",
       "\n",
       "       [[ 8, 86, 60],\n",
       "        [99, 32, 68],\n",
       "        [30, 92, 39]],\n",
       "\n",
       "       [[33, 61, 52],\n",
       "        [36,  6, 30],\n",
       "        [22,  4, 93]]])"
      ]
     },
     "execution_count": 40,
     "metadata": {},
     "output_type": "execute_result"
    }
   ],
   "source": [
    "b = np.random.randint(1,100,(3,3,3))\n",
    "b"
   ]
  },
  {
   "cell_type": "code",
   "execution_count": 41,
   "id": "538992e0",
   "metadata": {},
   "outputs": [
    {
     "data": {
      "text/plain": [
       "array([16, 65, 91, 95, 76, 74, 50, 46, 23,  8, 86, 60, 99, 32, 68, 30, 92,\n",
       "       39, 33, 61, 52, 36,  6, 30, 22,  4, 93])"
      ]
     },
     "execution_count": 41,
     "metadata": {},
     "output_type": "execute_result"
    }
   ],
   "source": [
    "b.flatten()"
   ]
  },
  {
   "cell_type": "markdown",
   "id": "cd03fe8f",
   "metadata": {},
   "source": [
    "# Array Attributes\n",
    "NumPy arrays have several attributes that provide useful information about the array."
   ]
  },
  {
   "cell_type": "code",
   "execution_count": 42,
   "id": "542ea503",
   "metadata": {},
   "outputs": [
    {
     "data": {
      "text/plain": [
       "array([[21, 10, 14, 17, 19],\n",
       "       [ 6, 12, 39, 47, 12],\n",
       "       [17, 30, 21, 12,  2],\n",
       "       [51, 23, 48, 44, 26],\n",
       "       [33, 17, 32, 49, 10]])"
      ]
     },
     "execution_count": 42,
     "metadata": {},
     "output_type": "execute_result"
    }
   ],
   "source": [
    "b = np.random.randint(1,55,(5,5))\n",
    "b"
   ]
  },
  {
   "cell_type": "code",
   "execution_count": 43,
   "id": "e74946c4",
   "metadata": {},
   "outputs": [
    {
     "data": {
      "text/plain": [
       "(5, 5)"
      ]
     },
     "execution_count": 43,
     "metadata": {},
     "output_type": "execute_result"
    }
   ],
   "source": [
    "b.shape"
   ]
  },
  {
   "cell_type": "code",
   "execution_count": 44,
   "id": "4a760064",
   "metadata": {},
   "outputs": [
    {
     "data": {
      "text/plain": [
       "25"
      ]
     },
     "execution_count": 44,
     "metadata": {},
     "output_type": "execute_result"
    }
   ],
   "source": [
    "b.size"
   ]
  },
  {
   "cell_type": "code",
   "execution_count": 45,
   "id": "fb2c70e7",
   "metadata": {},
   "outputs": [
    {
     "data": {
      "text/plain": [
       "2"
      ]
     },
     "execution_count": 45,
     "metadata": {},
     "output_type": "execute_result"
    }
   ],
   "source": [
    "b.ndim"
   ]
  },
  {
   "cell_type": "code",
   "execution_count": 46,
   "id": "04f12324",
   "metadata": {},
   "outputs": [
    {
     "data": {
      "text/plain": [
       "dtype('int32')"
      ]
     },
     "execution_count": 46,
     "metadata": {},
     "output_type": "execute_result"
    }
   ],
   "source": [
    "b.dtype"
   ]
  },
  {
   "cell_type": "code",
   "execution_count": 48,
   "id": "cb511242",
   "metadata": {},
   "outputs": [
    {
     "data": {
      "text/plain": [
       "array([[21, 10, 14, 17, 19],\n",
       "       [ 6, 12, 39, 47, 12],\n",
       "       [17, 30, 21, 12,  2],\n",
       "       [51, 23, 48, 44, 26],\n",
       "       [33, 17, 32, 49, 10]], dtype=int8)"
      ]
     },
     "execution_count": 48,
     "metadata": {},
     "output_type": "execute_result"
    }
   ],
   "source": [
    "b.astype('int8')"
   ]
  },
  {
   "cell_type": "code",
   "execution_count": 5,
   "id": "cedc6b97",
   "metadata": {},
   "outputs": [],
   "source": [
    "\n",
    "\n",
    "# shape,size,ndim,dtype\n"
   ]
  },
  {
   "cell_type": "markdown",
   "id": "eddb270d",
   "metadata": {},
   "source": [
    "# Array Indexing and Slicing\n",
    "## Indexing\n",
    "You can access elements of a NumPy array using indices."
   ]
  },
  {
   "cell_type": "code",
   "execution_count": 49,
   "id": "ce4c32b9",
   "metadata": {},
   "outputs": [
    {
     "name": "stdout",
     "output_type": "stream",
     "text": [
      "1\n",
      "5\n"
     ]
    }
   ],
   "source": [
    "array = np.array([1, 2, 3, 4, 5])\n",
    "\n",
    "print(array[0])  \n",
    "print(array[4]) \n"
   ]
  },
  {
   "cell_type": "code",
   "execution_count": 50,
   "id": "0a6a38f9",
   "metadata": {},
   "outputs": [
    {
     "data": {
      "text/plain": [
       "array([[21, 10, 14, 17, 19],\n",
       "       [ 6, 12, 39, 47, 12],\n",
       "       [17, 30, 21, 12,  2],\n",
       "       [51, 23, 48, 44, 26],\n",
       "       [33, 17, 32, 49, 10]])"
      ]
     },
     "execution_count": 50,
     "metadata": {},
     "output_type": "execute_result"
    }
   ],
   "source": [
    "b"
   ]
  },
  {
   "cell_type": "code",
   "execution_count": null,
   "id": "ac4f1ebf",
   "metadata": {},
   "outputs": [],
   "source": []
  },
  {
   "cell_type": "code",
   "execution_count": 51,
   "id": "7b98d137",
   "metadata": {},
   "outputs": [
    {
     "data": {
      "text/plain": [
       "21"
      ]
     },
     "execution_count": 51,
     "metadata": {},
     "output_type": "execute_result"
    }
   ],
   "source": [
    "b[2][2]"
   ]
  },
  {
   "cell_type": "code",
   "execution_count": 53,
   "id": "22d2e75c",
   "metadata": {},
   "outputs": [
    {
     "data": {
      "text/plain": [
       "49"
      ]
     },
     "execution_count": 53,
     "metadata": {},
     "output_type": "execute_result"
    }
   ],
   "source": [
    "b[4][3]"
   ]
  },
  {
   "cell_type": "code",
   "execution_count": 56,
   "id": "8aded83b",
   "metadata": {},
   "outputs": [],
   "source": [
    "b[1][4] = 550"
   ]
  },
  {
   "cell_type": "code",
   "execution_count": 57,
   "id": "0c931383",
   "metadata": {},
   "outputs": [
    {
     "data": {
      "text/plain": [
       "array([[ 21,  10,  14,  17,  19],\n",
       "       [  6,  12,  39,  47, 550],\n",
       "       [ 17,  30,  21,  12,   2],\n",
       "       [ 51,  23,  48,  44,  26],\n",
       "       [ 33,  17,  32,  49,  10]])"
      ]
     },
     "execution_count": 57,
     "metadata": {},
     "output_type": "execute_result"
    }
   ],
   "source": [
    "b"
   ]
  },
  {
   "cell_type": "markdown",
   "id": "cfedd641",
   "metadata": {},
   "source": [
    "# Slicing\n",
    "You can slice arrays to access a subarray."
   ]
  },
  {
   "cell_type": "code",
   "execution_count": 62,
   "id": "f4d1e038",
   "metadata": {},
   "outputs": [
    {
     "name": "stdout",
     "output_type": "stream",
     "text": [
      "[2 3]\n",
      "[1 2 3]\n",
      "[3 4 5]\n",
      "[1 2 3 4 5]\n"
     ]
    }
   ],
   "source": [
    "array = np.array([1, 2, 3, 4, 5])\n",
    "\n",
    "print(array[1:3]) \n",
    "print(array[:3])  \n",
    "print(array[2:])  \n",
    "print(array[:])   \n"
   ]
  },
  {
   "cell_type": "code",
   "execution_count": null,
   "id": "06885189",
   "metadata": {},
   "outputs": [],
   "source": []
  },
  {
   "cell_type": "code",
   "execution_count": 65,
   "id": "da79af28",
   "metadata": {},
   "outputs": [
    {
     "data": {
      "text/plain": [
       "array(['mayank', 'krishna', 'vansh', 'sachin', 'manthan'], dtype='<U7')"
      ]
     },
     "execution_count": 65,
     "metadata": {},
     "output_type": "execute_result"
    }
   ],
   "source": [
    "a = np.array(['mayank','krishna','vansh','sachin','manthan'])\n",
    "a"
   ]
  },
  {
   "cell_type": "code",
   "execution_count": 66,
   "id": "e3ffa01d",
   "metadata": {},
   "outputs": [
    {
     "data": {
      "text/plain": [
       "array(['krishna', 'vansh'], dtype='<U7')"
      ]
     },
     "execution_count": 66,
     "metadata": {},
     "output_type": "execute_result"
    }
   ],
   "source": [
    "a[1:3]"
   ]
  },
  {
   "cell_type": "markdown",
   "id": "fb263c8b",
   "metadata": {},
   "source": [
    "# Array Operations\n",
    "## Element-wise Operations\n",
    "NumPy supports element-wise operations on arrays."
   ]
  },
  {
   "cell_type": "code",
   "execution_count": 71,
   "id": "3b6eb941",
   "metadata": {},
   "outputs": [
    {
     "name": "stdout",
     "output_type": "stream",
     "text": [
      "[5 7 9]\n",
      "[ 4 10 18]\n",
      "[-3 -3 -3]\n",
      "[4.  2.5 2. ]\n"
     ]
    }
   ],
   "source": [
    "array1 = np.array([1, 2, 3])\n",
    "array2 = np.array([4, 5, 6])\n",
    "\n",
    "print(array1 + array2)  # Output: [5 7 9]\n",
    "print(array1 * array2)  # Output: [ 4 10 18]\n",
    "print(array1 - array2) \n",
    "print(array2 / array1)  \n"
   ]
  },
  {
   "cell_type": "code",
   "execution_count": 72,
   "id": "5c23536a",
   "metadata": {},
   "outputs": [
    {
     "data": {
      "text/plain": [
       "array([10, 20, 30])"
      ]
     },
     "execution_count": 72,
     "metadata": {},
     "output_type": "execute_result"
    }
   ],
   "source": [
    "array1 = np.array([1, 2, 3])\n",
    "array1*10"
   ]
  },
  {
   "cell_type": "markdown",
   "id": "8939d88a",
   "metadata": {},
   "source": [
    "# Aggregate Functions\n",
    "NumPy provides many functions to compute aggregates on arrays."
   ]
  },
  {
   "cell_type": "code",
   "execution_count": 73,
   "id": "684e3956",
   "metadata": {},
   "outputs": [
    {
     "data": {
      "text/plain": [
       "array([[ 21,  10,  14,  17,  19],\n",
       "       [  6,  12,  39,  47, 550],\n",
       "       [ 17,  30,  21,  12,   2],\n",
       "       [ 51,  23,  48,  44,  26],\n",
       "       [ 33,  17,  32,  49,  10]])"
      ]
     },
     "execution_count": 73,
     "metadata": {},
     "output_type": "execute_result"
    }
   ],
   "source": [
    "b"
   ]
  },
  {
   "cell_type": "code",
   "execution_count": 74,
   "id": "c13f40bd",
   "metadata": {},
   "outputs": [
    {
     "ename": "ValueError",
     "evalue": "The truth value of an array with more than one element is ambiguous. Use a.any() or a.all()",
     "output_type": "error",
     "traceback": [
      "\u001b[1;31m---------------------------------------------------------------------------\u001b[0m",
      "\u001b[1;31mValueError\u001b[0m                                Traceback (most recent call last)",
      "Cell \u001b[1;32mIn[74], line 1\u001b[0m\n\u001b[1;32m----> 1\u001b[0m \u001b[38;5;28mmax\u001b[39m(b)\n",
      "\u001b[1;31mValueError\u001b[0m: The truth value of an array with more than one element is ambiguous. Use a.any() or a.all()"
     ]
    }
   ],
   "source": [
    "max(b)"
   ]
  },
  {
   "cell_type": "code",
   "execution_count": 75,
   "id": "b065ea6d",
   "metadata": {},
   "outputs": [
    {
     "data": {
      "text/plain": [
       "550"
      ]
     },
     "execution_count": 75,
     "metadata": {},
     "output_type": "execute_result"
    }
   ],
   "source": [
    "b.max()"
   ]
  },
  {
   "cell_type": "code",
   "execution_count": 76,
   "id": "abde2c64",
   "metadata": {},
   "outputs": [
    {
     "data": {
      "text/plain": [
       "2"
      ]
     },
     "execution_count": 76,
     "metadata": {},
     "output_type": "execute_result"
    }
   ],
   "source": [
    "b.min()"
   ]
  },
  {
   "cell_type": "code",
   "execution_count": 77,
   "id": "7a47126a",
   "metadata": {
    "scrolled": true
   },
   "outputs": [
    {
     "data": {
      "text/plain": [
       "1150"
      ]
     },
     "execution_count": 77,
     "metadata": {},
     "output_type": "execute_result"
    }
   ],
   "source": [
    "b.sum()"
   ]
  },
  {
   "cell_type": "code",
   "execution_count": 78,
   "id": "2c478e28",
   "metadata": {},
   "outputs": [
    {
     "data": {
      "text/plain": [
       "46.0"
      ]
     },
     "execution_count": 78,
     "metadata": {},
     "output_type": "execute_result"
    }
   ],
   "source": [
    "b.mean()"
   ]
  },
  {
   "cell_type": "code",
   "execution_count": 79,
   "id": "945e0cfd",
   "metadata": {},
   "outputs": [
    {
     "data": {
      "text/plain": [
       "103.850662010408"
      ]
     },
     "execution_count": 79,
     "metadata": {},
     "output_type": "execute_result"
    }
   ],
   "source": [
    "b.std()"
   ]
  },
  {
   "cell_type": "markdown",
   "id": "e8829feb",
   "metadata": {},
   "source": [
    "# Reshaping Arrays\n",
    "You can change the shape of an array without changing its data using the reshape method."
   ]
  },
  {
   "cell_type": "code",
   "execution_count": 80,
   "id": "d53bbd7b",
   "metadata": {},
   "outputs": [
    {
     "data": {
      "text/plain": [
       "array([[ 21,  10,  14,  17,  19],\n",
       "       [  6,  12,  39,  47, 550],\n",
       "       [ 17,  30,  21,  12,   2],\n",
       "       [ 51,  23,  48,  44,  26],\n",
       "       [ 33,  17,  32,  49,  10]])"
      ]
     },
     "execution_count": 80,
     "metadata": {},
     "output_type": "execute_result"
    }
   ],
   "source": [
    "b"
   ]
  },
  {
   "cell_type": "code",
   "execution_count": 83,
   "id": "9101a432",
   "metadata": {},
   "outputs": [
    {
     "name": "stdout",
     "output_type": "stream",
     "text": [
      "[[ 21]\n",
      " [ 10]\n",
      " [ 14]\n",
      " [ 17]\n",
      " [ 19]\n",
      " [  6]\n",
      " [ 12]\n",
      " [ 39]\n",
      " [ 47]\n",
      " [550]\n",
      " [ 17]\n",
      " [ 30]\n",
      " [ 21]\n",
      " [ 12]\n",
      " [  2]\n",
      " [ 51]\n",
      " [ 23]\n",
      " [ 48]\n",
      " [ 44]\n",
      " [ 26]\n",
      " [ 33]\n",
      " [ 17]\n",
      " [ 32]\n",
      " [ 49]\n",
      " [ 10]]\n"
     ]
    }
   ],
   "source": [
    "print(b.reshape(25,1))"
   ]
  },
  {
   "cell_type": "markdown",
   "id": "0af239eb",
   "metadata": {},
   "source": [
    "# Conclusion\n",
    "NumPy arrays are a powerful tool for numerical computing in Python. They provide efficient storage and operations on large datasets, making them essential for data analysis, scientific computing, and machine learning."
   ]
  },
  {
   "cell_type": "code",
   "execution_count": null,
   "id": "cdc9bc7b",
   "metadata": {},
   "outputs": [],
   "source": []
  }
 ],
 "metadata": {
  "kernelspec": {
   "display_name": "Python 3 (ipykernel)",
   "language": "python",
   "name": "python3"
  },
  "language_info": {
   "codemirror_mode": {
    "name": "ipython",
    "version": 3
   },
   "file_extension": ".py",
   "mimetype": "text/x-python",
   "name": "python",
   "nbconvert_exporter": "python",
   "pygments_lexer": "ipython3",
   "version": "3.11.3"
  }
 },
 "nbformat": 4,
 "nbformat_minor": 5
}
