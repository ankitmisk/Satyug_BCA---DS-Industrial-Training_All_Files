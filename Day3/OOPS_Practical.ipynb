{
 "cells": [
  {
   "attachments": {
    "images.jpg": {
     "image/jpeg": "[encoded data removed]"
    }
   },
   "cell_type": "markdown",
   "id": "1375bcc7",
   "metadata": {},
   "source": [
    "![images.jpg](attachment:images.jpg)"
   ]
  },
  {
   "cell_type": "markdown",
   "id": "d6525f16",
   "metadata": {},
   "source": [
    "# Inheritance\n"
   ]
  },
  {
   "cell_type": "code",
   "execution_count": 2,
   "id": "61562e15",
   "metadata": {},
   "outputs": [],
   "source": [
    "class Bike:\n",
    "    \n",
    "    def engine_start(self):\n",
    "        print('Engine start whoosh!!')\n",
    "        \n",
    "    def fuel_up(self):\n",
    "        print('Tank is full!!')\n",
    "        \n",
    "        \n",
    "class Car:\n",
    "    def start_race(self):\n",
    "        print('Race is going to start!!')"
   ]
  },
  {
   "attachments": {
    "images.jpg": {
     "image/jpeg": "[encoded data removed]"
    }
   },
   "cell_type": "markdown",
   "id": "dbd56ec6",
   "metadata": {},
   "source": [
    "![images.jpg](attachment:images.jpg)"
   ]
  },
  {
   "cell_type": "code",
   "execution_count": 3,
   "id": "48f08472",
   "metadata": {},
   "outputs": [],
   "source": [
    "bajaj = Bike()"
   ]
  },
  {
   "cell_type": "code",
   "execution_count": 4,
   "id": "33084e85",
   "metadata": {},
   "outputs": [],
   "source": [
    "audi = Car()"
   ]
  },
  {
   "cell_type": "code",
   "execution_count": 5,
   "id": "6ab15763",
   "metadata": {},
   "outputs": [
    {
     "name": "stdout",
     "output_type": "stream",
     "text": [
      "Engine start whoosh!!\n"
     ]
    }
   ],
   "source": [
    "bajaj.engine_start()"
   ]
  },
  {
   "cell_type": "code",
   "execution_count": 6,
   "id": "605c305a",
   "metadata": {},
   "outputs": [
    {
     "name": "stdout",
     "output_type": "stream",
     "text": [
      "Race is going to start!!\n"
     ]
    }
   ],
   "source": [
    "audi.start_race()"
   ]
  },
  {
   "cell_type": "code",
   "execution_count": null,
   "id": "e29eaa59",
   "metadata": {},
   "outputs": [],
   "source": []
  },
  {
   "cell_type": "code",
   "execution_count": null,
   "id": "8fa5d891",
   "metadata": {},
   "outputs": [],
   "source": []
  },
  {
   "cell_type": "code",
   "execution_count": null,
   "id": "cf50017a",
   "metadata": {},
   "outputs": [],
   "source": []
  },
  {
   "cell_type": "code",
   "execution_count": null,
   "id": "22d9af43",
   "metadata": {},
   "outputs": [],
   "source": []
  },
  {
   "cell_type": "code",
   "execution_count": 7,
   "id": "5d60c632",
   "metadata": {},
   "outputs": [],
   "source": [
    "class Bike:\n",
    "    \n",
    "    def engine_start(self):\n",
    "        print('Engine start whoosh!!')\n",
    "        \n",
    "    def fuel_up(self):\n",
    "        print('Tank is full!!')\n",
    "        \n",
    "        \n",
    "class Car(Bike):\n",
    "    def start_race(self):\n",
    "        print('Race is going to start!!')"
   ]
  },
  {
   "cell_type": "code",
   "execution_count": null,
   "id": "e46c2f4f",
   "metadata": {},
   "outputs": [],
   "source": []
  },
  {
   "cell_type": "code",
   "execution_count": 8,
   "id": "4b2d7c88",
   "metadata": {},
   "outputs": [],
   "source": [
    "bmw = Car()"
   ]
  },
  {
   "cell_type": "code",
   "execution_count": 9,
   "id": "901ff713",
   "metadata": {},
   "outputs": [
    {
     "name": "stdout",
     "output_type": "stream",
     "text": [
      "Tank is full!!\n"
     ]
    }
   ],
   "source": [
    "bmw.fuel_up()"
   ]
  },
  {
   "cell_type": "code",
   "execution_count": 10,
   "id": "eeaa3371",
   "metadata": {},
   "outputs": [
    {
     "name": "stdout",
     "output_type": "stream",
     "text": [
      "Race is going to start!!\n"
     ]
    }
   ],
   "source": [
    "bmw.start_race()"
   ]
  },
  {
   "cell_type": "code",
   "execution_count": 11,
   "id": "1647e997",
   "metadata": {},
   "outputs": [
    {
     "name": "stdout",
     "output_type": "stream",
     "text": [
      "Engine start whoosh!!\n"
     ]
    }
   ],
   "source": [
    "bmw.engine_start()"
   ]
  },
  {
   "cell_type": "code",
   "execution_count": null,
   "id": "05579c80",
   "metadata": {},
   "outputs": [],
   "source": []
  },
  {
   "cell_type": "code",
   "execution_count": null,
   "id": "82bde99a",
   "metadata": {},
   "outputs": [],
   "source": []
  },
  {
   "cell_type": "code",
   "execution_count": null,
   "id": "e372732c",
   "metadata": {},
   "outputs": [],
   "source": []
  },
  {
   "cell_type": "markdown",
   "id": "4a78f1ef",
   "metadata": {},
   "source": [
    "# Polymorphism"
   ]
  },
  {
   "cell_type": "code",
   "execution_count": 12,
   "id": "c127d5bb",
   "metadata": {},
   "outputs": [
    {
     "name": "stdout",
     "output_type": "stream",
     "text": [
      "112\n"
     ]
    }
   ],
   "source": [
    "a = 45\n",
    "b = 67\n",
    "\n",
    "print(a + b)"
   ]
  },
  {
   "cell_type": "code",
   "execution_count": 13,
   "id": "36881460",
   "metadata": {},
   "outputs": [
    {
     "name": "stdout",
     "output_type": "stream",
     "text": [
      "4567\n"
     ]
    }
   ],
   "source": [
    "a = '45'\n",
    "b = '67'\n",
    "\n",
    "print(a + b)"
   ]
  },
  {
   "cell_type": "code",
   "execution_count": 14,
   "id": "296938fb",
   "metadata": {},
   "outputs": [
    {
     "data": {
      "text/plain": [
       "[1, 6, 8, 7, 9, 0]"
      ]
     },
     "execution_count": 14,
     "metadata": {},
     "output_type": "execute_result"
    }
   ],
   "source": [
    "a = [1,6,8]\n",
    "b = [7,9,0]\n",
    "\n",
    "a + b"
   ]
  },
  {
   "cell_type": "code",
   "execution_count": null,
   "id": "5dd45c84",
   "metadata": {},
   "outputs": [],
   "source": []
  },
  {
   "cell_type": "code",
   "execution_count": 17,
   "id": "b429252e",
   "metadata": {},
   "outputs": [],
   "source": [
    "class Animal:\n",
    "    def speak(self):\n",
    "        print('''Don't know how to speak!! ''')\n",
    "        \n",
    "        \n",
    "class Dog:\n",
    "    def speak(self):\n",
    "        print('Bark!! Bark!!')\n",
    "        \n",
    "class Cat:\n",
    "    def speak(self):\n",
    "        print('Meow!! Meow!!')\n",
    "        \n",
    "        \n"
   ]
  },
  {
   "cell_type": "code",
   "execution_count": 25,
   "id": "8acbb6d6",
   "metadata": {},
   "outputs": [],
   "source": [
    "lion = Animal()"
   ]
  },
  {
   "cell_type": "code",
   "execution_count": 26,
   "id": "65aa0393",
   "metadata": {},
   "outputs": [
    {
     "name": "stdout",
     "output_type": "stream",
     "text": [
      "Don't know how to speak!! \n"
     ]
    }
   ],
   "source": [
    "lion.speak()"
   ]
  },
  {
   "cell_type": "code",
   "execution_count": 27,
   "id": "9bac8fa9",
   "metadata": {},
   "outputs": [],
   "source": [
    "lion = Dog()"
   ]
  },
  {
   "cell_type": "code",
   "execution_count": 28,
   "id": "73185748",
   "metadata": {},
   "outputs": [
    {
     "name": "stdout",
     "output_type": "stream",
     "text": [
      "Bark!! Bark!!\n"
     ]
    }
   ],
   "source": [
    "lion.speak()"
   ]
  },
  {
   "cell_type": "code",
   "execution_count": 30,
   "id": "858cdcf6",
   "metadata": {},
   "outputs": [],
   "source": [
    "lion  = Cat()"
   ]
  },
  {
   "cell_type": "code",
   "execution_count": 31,
   "id": "72054b29",
   "metadata": {},
   "outputs": [
    {
     "name": "stdout",
     "output_type": "stream",
     "text": [
      "Meow!! Meow!!\n"
     ]
    }
   ],
   "source": [
    "lion.speak()"
   ]
  },
  {
   "cell_type": "code",
   "execution_count": null,
   "id": "5f61c2b7",
   "metadata": {},
   "outputs": [],
   "source": []
  },
  {
   "cell_type": "code",
   "execution_count": null,
   "id": "9a28fbce",
   "metadata": {},
   "outputs": [],
   "source": []
  },
  {
   "cell_type": "code",
   "execution_count": null,
   "id": "3d755edc",
   "metadata": {},
   "outputs": [],
   "source": []
  },
  {
   "cell_type": "markdown",
   "id": "02aa96a1",
   "metadata": {},
   "source": [
    "# Encapsulation"
   ]
  },
  {
   "cell_type": "code",
   "execution_count": 37,
   "id": "dde3f4bc",
   "metadata": {},
   "outputs": [],
   "source": [
    "class ATM:\n",
    "    \n",
    "    def __init__(self):\n",
    "        self.pin = '0000'\n",
    "        self.balance = 5000\n",
    "        \n",
    "        \n",
    "    def show_pin(self):\n",
    "        print(f'Your Pin is {self.pin}')\n",
    "        \n",
    "        \n",
    "    def check_balance(self):\n",
    "        print(f'Your current Balance is Rs: {self.balance}')"
   ]
  },
  {
   "cell_type": "code",
   "execution_count": 39,
   "id": "4d5ee64d",
   "metadata": {},
   "outputs": [],
   "source": [
    "axis = ATM()"
   ]
  },
  {
   "cell_type": "code",
   "execution_count": 40,
   "id": "0bbcf1a2",
   "metadata": {},
   "outputs": [
    {
     "name": "stdout",
     "output_type": "stream",
     "text": [
      "Your current Balance is Rs: 5000\n"
     ]
    }
   ],
   "source": [
    "axis.check_balance()"
   ]
  },
  {
   "cell_type": "code",
   "execution_count": 41,
   "id": "dce9f5f2",
   "metadata": {},
   "outputs": [
    {
     "data": {
      "text/plain": [
       "5000"
      ]
     },
     "execution_count": 41,
     "metadata": {},
     "output_type": "execute_result"
    }
   ],
   "source": [
    "axis.balance"
   ]
  },
  {
   "cell_type": "code",
   "execution_count": null,
   "id": "06b773a6",
   "metadata": {},
   "outputs": [],
   "source": []
  },
  {
   "cell_type": "code",
   "execution_count": null,
   "id": "330fc2b8",
   "metadata": {},
   "outputs": [],
   "source": []
  },
  {
   "cell_type": "code",
   "execution_count": 42,
   "id": "86b5d39f",
   "metadata": {},
   "outputs": [],
   "source": [
    "class ATM:\n",
    "    \n",
    "    def __init__(self):\n",
    "        self._pin = '0000'\n",
    "        self._balance = 5000\n",
    "        \n",
    "        \n",
    "    def show_pin(self):\n",
    "        print(f'Your Pin is {self.pin}')\n",
    "        \n",
    "        \n",
    "    def check_balance(self):\n",
    "        print(f'Your current Balance is Rs: {self.balance}')"
   ]
  },
  {
   "cell_type": "code",
   "execution_count": 43,
   "id": "ed589fe7",
   "metadata": {},
   "outputs": [],
   "source": [
    "hdfc = ATM()"
   ]
  },
  {
   "cell_type": "code",
   "execution_count": 44,
   "id": "4cfefef4",
   "metadata": {},
   "outputs": [
    {
     "data": {
      "text/plain": [
       "5000"
      ]
     },
     "execution_count": 44,
     "metadata": {},
     "output_type": "execute_result"
    }
   ],
   "source": [
    "hdfc._balance"
   ]
  },
  {
   "cell_type": "code",
   "execution_count": null,
   "id": "96dedef0",
   "metadata": {},
   "outputs": [],
   "source": []
  },
  {
   "cell_type": "code",
   "execution_count": null,
   "id": "107e9af0",
   "metadata": {},
   "outputs": [],
   "source": []
  },
  {
   "cell_type": "code",
   "execution_count": null,
   "id": "f9746a19",
   "metadata": {},
   "outputs": [],
   "source": []
  },
  {
   "cell_type": "code",
   "execution_count": 45,
   "id": "6093d8c2",
   "metadata": {},
   "outputs": [],
   "source": [
    "class ATM:\n",
    "    \n",
    "    def __init__(self):\n",
    "        self.__pin = '0000'\n",
    "        self.__balance = 5000\n",
    "        \n",
    "        \n",
    "    def show_pin(self):\n",
    "        print(f'Your Pin is {self.pin}')\n",
    "        \n",
    "        \n",
    "    def check_balance(self):\n",
    "        print(f'Your current Balance is Rs: {self.balance}')"
   ]
  },
  {
   "cell_type": "code",
   "execution_count": 46,
   "id": "9c7f5e4c",
   "metadata": {},
   "outputs": [],
   "source": [
    "pnb = ATM()"
   ]
  },
  {
   "cell_type": "code",
   "execution_count": 47,
   "id": "42fa3e8a",
   "metadata": {},
   "outputs": [
    {
     "ename": "AttributeError",
     "evalue": "'ATM' object has no attribute '__pin'",
     "output_type": "error",
     "traceback": [
      "\u001b[1;31m---------------------------------------------------------------------------\u001b[0m",
      "\u001b[1;31mAttributeError\u001b[0m                            Traceback (most recent call last)",
      "Cell \u001b[1;32mIn[47], line 1\u001b[0m\n\u001b[1;32m----> 1\u001b[0m pnb\u001b[38;5;241m.\u001b[39m__pin\n",
      "\u001b[1;31mAttributeError\u001b[0m: 'ATM' object has no attribute '__pin'"
     ]
    }
   ],
   "source": [
    "pnb.__pin"
   ]
  },
  {
   "cell_type": "code",
   "execution_count": 48,
   "id": "38550158",
   "metadata": {},
   "outputs": [
    {
     "data": {
      "text/plain": [
       "5000"
      ]
     },
     "execution_count": 48,
     "metadata": {},
     "output_type": "execute_result"
    }
   ],
   "source": [
    "pnb._ATM__balance"
   ]
  },
  {
   "cell_type": "code",
   "execution_count": 49,
   "id": "bbde3c6c",
   "metadata": {},
   "outputs": [
    {
     "data": {
      "text/plain": [
       "'0000'"
      ]
     },
     "execution_count": 49,
     "metadata": {},
     "output_type": "execute_result"
    }
   ],
   "source": [
    "pnb._ATM__pin"
   ]
  },
  {
   "cell_type": "code",
   "execution_count": null,
   "id": "11606df3",
   "metadata": {},
   "outputs": [],
   "source": []
  },
  {
   "cell_type": "code",
   "execution_count": null,
   "id": "2758f1f8",
   "metadata": {},
   "outputs": [],
   "source": []
  },
  {
   "cell_type": "code",
   "execution_count": null,
   "id": "27f88632",
   "metadata": {},
   "outputs": [],
   "source": []
  },
  {
   "cell_type": "code",
   "execution_count": null,
   "id": "5daddfc6",
   "metadata": {},
   "outputs": [],
   "source": []
  },
  {
   "cell_type": "code",
   "execution_count": 52,
   "id": "24e52ecd",
   "metadata": {},
   "outputs": [],
   "source": [
    "from abc import ABC, abstractmethod\n",
    "\n",
    "class Bike(ABC):\n",
    "    \n",
    "    @abstractmethod\n",
    "    def engine_start(self):\n",
    "        print('Engine start whoosh!!')\n",
    "    \n",
    "    \n",
    "    @abstractmethod\n",
    "    def fuel_up(self):\n",
    "        print('Tank is full!!')"
   ]
  },
  {
   "cell_type": "code",
   "execution_count": 53,
   "id": "7acb5c27",
   "metadata": {},
   "outputs": [
    {
     "ename": "TypeError",
     "evalue": "Can't instantiate abstract class Bike with abstract methods engine_start, fuel_up",
     "output_type": "error",
     "traceback": [
      "\u001b[1;31m---------------------------------------------------------------------------\u001b[0m",
      "\u001b[1;31mTypeError\u001b[0m                                 Traceback (most recent call last)",
      "Cell \u001b[1;32mIn[53], line 1\u001b[0m\n\u001b[1;32m----> 1\u001b[0m bajaj \u001b[38;5;241m=\u001b[39m Bike()\n\u001b[0;32m      2\u001b[0m \u001b[38;5;28mprint\u001b[39m(\u001b[38;5;124m'\u001b[39m\u001b[38;5;124mdone\u001b[39m\u001b[38;5;124m'\u001b[39m)\n",
      "\u001b[1;31mTypeError\u001b[0m: Can't instantiate abstract class Bike with abstract methods engine_start, fuel_up"
     ]
    }
   ],
   "source": [
    "bajaj = Bike()\n",
    "print('done')"
   ]
  },
  {
   "cell_type": "code",
   "execution_count": null,
   "id": "21aa0368",
   "metadata": {},
   "outputs": [],
   "source": []
  },
  {
   "cell_type": "code",
   "execution_count": null,
   "id": "15f9b329",
   "metadata": {},
   "outputs": [],
   "source": []
  },
  {
   "cell_type": "code",
   "execution_count": null,
   "id": "1a0db86b",
   "metadata": {},
   "outputs": [],
   "source": []
  },
  {
   "cell_type": "code",
   "execution_count": null,
   "id": "6846bc86",
   "metadata": {},
   "outputs": [],
   "source": []
  },
  {
   "cell_type": "code",
   "execution_count": null,
   "id": "1b7b2d65",
   "metadata": {},
   "outputs": [],
   "source": []
  },
  {
   "cell_type": "code",
   "execution_count": null,
   "id": "f547b305",
   "metadata": {},
   "outputs": [],
   "source": []
  },
  {
   "cell_type": "code",
   "execution_count": 55,
   "id": "34cc2a20",
   "metadata": {},
   "outputs": [
    {
     "name": "stdout",
     "output_type": "stream",
     "text": [
      "Requirement already satisfied: beautifulsoup4 in c:\\users\\lenovo\\anaconda3\\lib\\site-packages (4.12.2)\n",
      "Requirement already satisfied: soupsieve>1.2 in c:\\users\\lenovo\\anaconda3\\lib\\site-packages (from beautifulsoup4) (2.4)\n",
      "Note: you may need to restart the kernel to use updated packages.\n"
     ]
    }
   ],
   "source": [
    "pip install beautifulsoup4"
   ]
  },
  {
   "cell_type": "code",
   "execution_count": null,
   "id": "7e1cd42a",
   "metadata": {},
   "outputs": [],
   "source": []
  },
  {
   "cell_type": "code",
   "execution_count": 1,
   "id": "1bedacab",
   "metadata": {},
   "outputs": [
    {
     "name": "stdout",
     "output_type": "stream",
     "text": [
      "done\n"
     ]
    }
   ],
   "source": [
    "import requests\n",
    "from bs4 import BeautifulSoup\n",
    "print('done')"
   ]
  },
  {
   "cell_type": "markdown",
   "id": "c239b1c5",
   "metadata": {},
   "source": [
    "# Web Scrapping"
   ]
  },
  {
   "cell_type": "code",
   "execution_count": 2,
   "id": "2a60153d",
   "metadata": {},
   "outputs": [
    {
     "name": "stdout",
     "output_type": "stream",
     "text": [
      "https://en.wikipedia.org/wiki/COVID-19_pandemic_by_country_and_territory\n"
     ]
    }
   ],
   "source": [
    "url = '''https://en.wikipedia.org/wiki/COVID-19_pandemic_by_country_and_territory'''\n",
    "\n",
    "print(url)"
   ]
  },
  {
   "cell_type": "code",
   "execution_count": 3,
   "id": "ced8b259",
   "metadata": {},
   "outputs": [
    {
     "data": {
      "text/plain": [
       "<Response [200]>"
      ]
     },
     "execution_count": 3,
     "metadata": {},
     "output_type": "execute_result"
    }
   ],
   "source": [
    "response = requests.get(url)\n",
    "response"
   ]
  },
  {
   "cell_type": "code",
   "execution_count": 4,
   "id": "3332e84a",
   "metadata": {},
   "outputs": [],
   "source": [
    "data = response.content\n",
    "# data"
   ]
  },
  {
   "cell_type": "code",
   "execution_count": 5,
   "id": "3d558533",
   "metadata": {},
   "outputs": [],
   "source": [
    "soup = BeautifulSoup(data,'html.parser')\n",
    "# soup"
   ]
  },
  {
   "cell_type": "code",
   "execution_count": null,
   "id": "adc97672",
   "metadata": {},
   "outputs": [],
   "source": []
  },
  {
   "cell_type": "code",
   "execution_count": null,
   "id": "bcf71c07",
   "metadata": {},
   "outputs": [],
   "source": []
  },
  {
   "cell_type": "code",
   "execution_count": null,
   "id": "d368560f",
   "metadata": {},
   "outputs": [],
   "source": []
  },
  {
   "cell_type": "code",
   "execution_count": null,
   "id": "4dd1103c",
   "metadata": {},
   "outputs": [],
   "source": []
  },
  {
   "cell_type": "code",
   "execution_count": null,
   "id": "2c0495e5",
   "metadata": {},
   "outputs": [],
   "source": []
  },
  {
   "cell_type": "code",
   "execution_count": null,
   "id": "298cb0d6",
   "metadata": {},
   "outputs": [],
   "source": []
  },
  {
   "cell_type": "code",
   "execution_count": 6,
   "id": "77e4e62f",
   "metadata": {},
   "outputs": [],
   "source": [
    "all_data = []\n",
    "\n",
    "for index,i in enumerate(soup.find_all('tr')):\n",
    "    if 46<=index<=284:\n",
    "        data = i.text.strip().split('\\n')\n",
    "        \n",
    "        while '' in data:\n",
    "            data.remove('')\n",
    "            \n",
    "        all_data.append(data)\n",
    "        \n",
    "# print(all_data)"
   ]
  },
  {
   "cell_type": "code",
   "execution_count": 7,
   "id": "b6566b4d",
   "metadata": {},
   "outputs": [
    {
     "name": "stderr",
     "output_type": "stream",
     "text": [
      "C:\\Users\\Lenovo\\anaconda3\\Lib\\site-packages\\pandas\\core\\arrays\\masked.py:60: UserWarning: Pandas requires version '1.3.6' or newer of 'bottleneck' (version '1.3.5' currently installed).\n",
      "  from pandas.core import (\n"
     ]
    }
   ],
   "source": [
    "import pandas as pd"
   ]
  },
  {
   "cell_type": "code",
   "execution_count": 8,
   "id": "05bb9f5c",
   "metadata": {},
   "outputs": [
    {
     "name": "stdout",
     "output_type": "stream",
     "text": [
      "done\n"
     ]
    }
   ],
   "source": [
    "table = pd.DataFrame(all_data)\n",
    "table.to_csv('covid_data.csv')\n",
    "print('done')"
   ]
  },
  {
   "cell_type": "code",
   "execution_count": 9,
   "id": "8e4691c6",
   "metadata": {},
   "outputs": [
    {
     "data": {
      "text/html": [
       "<div>\n",
       "<style scoped>\n",
       "    .dataframe tbody tr th:only-of-type {\n",
       "        vertical-align: middle;\n",
       "    }\n",
       "\n",
       "    .dataframe tbody tr th {\n",
       "        vertical-align: top;\n",
       "    }\n",
       "\n",
       "    .dataframe thead th {\n",
       "        text-align: right;\n",
       "    }\n",
       "</style>\n",
       "<table border=\"1\" class=\"dataframe\">\n",
       "  <thead>\n",
       "    <tr style=\"text-align: right;\">\n",
       "      <th></th>\n",
       "      <th>0</th>\n",
       "      <th>1</th>\n",
       "      <th>2</th>\n",
       "      <th>3</th>\n",
       "    </tr>\n",
       "  </thead>\n",
       "  <tbody>\n",
       "    <tr>\n",
       "      <th>0</th>\n",
       "      <td>World[a]</td>\n",
       "      <td>884</td>\n",
       "      <td>7,050,691</td>\n",
       "      <td>775,583,295</td>\n",
       "    </tr>\n",
       "    <tr>\n",
       "      <th>1</th>\n",
       "      <td>Peru</td>\n",
       "      <td>6,485</td>\n",
       "      <td>220,831</td>\n",
       "      <td>4,524,748</td>\n",
       "    </tr>\n",
       "    <tr>\n",
       "      <th>2</th>\n",
       "      <td>Bulgaria</td>\n",
       "      <td>5,706</td>\n",
       "      <td>38,700</td>\n",
       "      <td>1,329,356</td>\n",
       "    </tr>\n",
       "    <tr>\n",
       "      <th>3</th>\n",
       "      <td>Bosnia and Herzegovina</td>\n",
       "      <td>5,068</td>\n",
       "      <td>16,388</td>\n",
       "      <td>403,644</td>\n",
       "    </tr>\n",
       "    <tr>\n",
       "      <th>4</th>\n",
       "      <td>Hungary</td>\n",
       "      <td>4,921</td>\n",
       "      <td>49,051</td>\n",
       "      <td>2,230,438</td>\n",
       "    </tr>\n",
       "    <tr>\n",
       "      <th>...</th>\n",
       "      <td>...</td>\n",
       "      <td>...</td>\n",
       "      <td>...</td>\n",
       "      <td>...</td>\n",
       "    </tr>\n",
       "    <tr>\n",
       "      <th>234</th>\n",
       "      <td>Niue</td>\n",
       "      <td>—</td>\n",
       "      <td>—</td>\n",
       "      <td>1,074</td>\n",
       "    </tr>\n",
       "    <tr>\n",
       "      <th>235</th>\n",
       "      <td>Turkmenistan</td>\n",
       "      <td>—</td>\n",
       "      <td>0</td>\n",
       "      <td>0</td>\n",
       "    </tr>\n",
       "    <tr>\n",
       "      <th>236</th>\n",
       "      <td>Vatican City</td>\n",
       "      <td>—</td>\n",
       "      <td>0</td>\n",
       "      <td>26</td>\n",
       "    </tr>\n",
       "    <tr>\n",
       "      <th>237</th>\n",
       "      <td>Tokelau</td>\n",
       "      <td>—</td>\n",
       "      <td>0</td>\n",
       "      <td>80</td>\n",
       "    </tr>\n",
       "    <tr>\n",
       "      <th>238</th>\n",
       "      <td>Saint Helena, Ascension and Tristan da Cunha</td>\n",
       "      <td>—</td>\n",
       "      <td>—</td>\n",
       "      <td>2,166</td>\n",
       "    </tr>\n",
       "  </tbody>\n",
       "</table>\n",
       "<p>239 rows × 4 columns</p>\n",
       "</div>"
      ],
      "text/plain": [
       "                                                0      1          2  \\\n",
       "0                                        World[a]    884  7,050,691   \n",
       "1                                            Peru  6,485    220,831   \n",
       "2                                        Bulgaria  5,706     38,700   \n",
       "3                          Bosnia and Herzegovina  5,068     16,388   \n",
       "4                                         Hungary  4,921     49,051   \n",
       "..                                            ...    ...        ...   \n",
       "234                                          Niue      —          —   \n",
       "235                                  Turkmenistan      —          0   \n",
       "236                                  Vatican City      —          0   \n",
       "237                                       Tokelau      —          0   \n",
       "238  Saint Helena, Ascension and Tristan da Cunha      —          —   \n",
       "\n",
       "               3  \n",
       "0    775,583,295  \n",
       "1      4,524,748  \n",
       "2      1,329,356  \n",
       "3        403,644  \n",
       "4      2,230,438  \n",
       "..           ...  \n",
       "234        1,074  \n",
       "235            0  \n",
       "236           26  \n",
       "237           80  \n",
       "238        2,166  \n",
       "\n",
       "[239 rows x 4 columns]"
      ]
     },
     "execution_count": 9,
     "metadata": {},
     "output_type": "execute_result"
    }
   ],
   "source": [
    "table"
   ]
  },
  {
   "cell_type": "code",
   "execution_count": null,
   "id": "af423f43",
   "metadata": {},
   "outputs": [],
   "source": []
  },
  {
   "cell_type": "code",
   "execution_count": null,
   "id": "d7eddcf6",
   "metadata": {},
   "outputs": [],
   "source": []
  }
 ],
 "metadata": {
  "kernelspec": {
   "display_name": "Python 3 (ipykernel)",
   "language": "python",
   "name": "python3"
  },
  "language_info": {
   "codemirror_mode": {
    "name": "ipython",
    "version": 3
   },
   "file_extension": ".py",
   "mimetype": "text/x-python",
   "name": "python",
   "nbconvert_exporter": "python",
   "pygments_lexer": "ipython3",
   "version": "3.11.3"
  }
 },
 "nbformat": 4,
 "nbformat_minor": 5
}
